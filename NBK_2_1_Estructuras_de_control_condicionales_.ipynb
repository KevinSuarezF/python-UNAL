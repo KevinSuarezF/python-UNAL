{
  "nbformat": 4,
  "nbformat_minor": 0,
  "metadata": {
    "colab": {
      "private_outputs": true,
      "provenance": [],
      "toc_visible": true,
      "include_colab_link": true
    },
    "kernelspec": {
      "name": "python3",
      "display_name": "Python 3"
    },
    "language_info": {
      "name": "python"
    }
  },
  "cells": [
    {
      "cell_type": "markdown",
      "metadata": {
        "id": "view-in-github",
        "colab_type": "text"
      },
      "source": [
        "<a href=\"https://colab.research.google.com/github/KevinSuarezF/python-UNAL/blob/main/NBK_2_1_Estructuras_de_control_condicionales_.ipynb\" target=\"_parent\"><img src=\"https://colab.research.google.com/assets/colab-badge.svg\" alt=\"Open In Colab\"/></a>"
      ]
    },
    {
      "cell_type": "markdown",
      "source": [
        "<img src = \"https://drive.google.com/uc?export=view&id=1MZKN3u95codbVoxZbkLkWvTRsDSgkyUR\" alt = \"Si no puede ver este encabezado le recomendamos que utilice un navegador distinto. Los navegadores probados son Google Chrome, Opera y Microsoft Edge.\" width = \"80%\">  </img>"
      ],
      "metadata": {
        "id": "P9h0jLOzRRW6"
      }
    },
    {
      "cell_type": "markdown",
      "metadata": {
        "id": "qCo5PrkGaT7t"
      },
      "source": [
        "# **Estructuras de control condicionales con _Python_**\n",
        "---\n",
        "¡Le damos la bienvenida a la segunda unidad del módulo de **Introducción a la programación con _Python_**!\n",
        "\n",
        "En este primer material se discutirá la necesidad de plantear estrategias para la creación de código basado en condiciones, introduciendo el concepto de tipo de dato _booleano_ y de las estructuras de control condicional."
      ]
    },
    {
      "cell_type": "markdown",
      "metadata": {
        "id": "2bTnAdrVyEyl"
      },
      "source": [
        "## **1.  Código basado en condiciones**\n",
        "---\n",
        "\n",
        "Hasta el momento somos capaces de crear programas que siguen una secuencia definida, línea por línea. El problema aparece cuando debemos ejecutar código **solo** cuando algo se cumpla, que un número sea válido, que el usuario de nuestra aplicación esté autenticado o que el servidor reciba el visto bueno para realizar una tarea.\n",
        "\n",
        " Por ejemplo, en muchas aplicaciones con **autenticación** tendríamos un escenario como el siguiente:\n",
        "\n",
        "<center>\n",
        "<img src = \"https://drive.google.com/uc?export=view&id=10dAX5anFVRCmtVamf5ScVweyHi-i6s4C\" alt = \"Estructura condicional Inicio de sesión\" width = \"80%\">  </img> </center>\n",
        "\n",
        "\n",
        "\n",
        "No es necesario realizar el proceso de registro si el usuario ya está en el sistema, y no tiene sentido solicitar credenciales de un usuario que no está registrado. Para implementar un programa que abarque un escenario similar debemos ser capaces de dos cosas:\n",
        "\n",
        "* Ser capaces de definir claramente estas condiciones y de evaluar si se cumplen o no.\n",
        "  > **¿Cómo representamos computacionalmente una expresión como \"_el usuario NO está registrado_\"?**\n",
        "* Indicar qué parte del código se ejecuta cuando una condición se cumple y qué parte se ejecuta cuando no se cumple.\n",
        "\n",
        "  > **¿Cómo puede saber _Python_ cuál fragmento del código ejecutar si se cumple que \"_el usuario NO está registrado_\"?**\n",
        "\n",
        "\n",
        "Empecemos por hablar de los **valores lógicos**."
      ]
    },
    {
      "cell_type": "markdown",
      "metadata": {
        "id": "IjBZWfBz6IE3"
      },
      "source": [
        "## **2. Valores _booleanos_**\n",
        "---\n",
        "_Python_ y muchos lenguajes de programación comparten la existencia de un tipo de dato primitivo que representa el **valor de verdad** de una condición lógica. Este tipo de valor lógico se conoce como **valor booleano** (en honor al matemático inglés [_George Boole_](https://es.wikipedia.org/wiki/George_Boole)) y puede tener únicamente dos valores:\n",
        "\n",
        "* **Verdadero** si la condición SÍ se cumple.\n",
        "* **Falso** si la condición NO se cumple.\n",
        "\n",
        "Estos valores pueden ser escritos como valores literales con las palabras reservadas **`True`** (para verdadero) y **`False`** (para falso)."
      ]
    },
    {
      "cell_type": "code",
      "metadata": {
        "id": "xeokcmfG7TRK"
      },
      "source": [
        "True"
      ],
      "execution_count": null,
      "outputs": []
    },
    {
      "cell_type": "code",
      "metadata": {
        "id": "HVbAI8aL7Uo9"
      },
      "source": [
        "False"
      ],
      "execution_count": null,
      "outputs": []
    },
    {
      "cell_type": "code",
      "metadata": {
        "id": "Suvkikqo7YpA"
      },
      "source": [
        "type(False)"
      ],
      "execution_count": null,
      "outputs": []
    },
    {
      "cell_type": "markdown",
      "metadata": {
        "id": "QfNu53TG7Wfo"
      },
      "source": [
        "Estos son valores de tipo **`bool`**. También, pueden ser almacenados en variables y usados como valores de funciones como **`print`** o **`type`**:"
      ]
    },
    {
      "cell_type": "code",
      "metadata": {
        "id": "sLvXCBO87l8Y"
      },
      "source": [
        "cond = True\n",
        "\n",
        "print(cond)\n",
        "type(cond)"
      ],
      "execution_count": null,
      "outputs": []
    },
    {
      "cell_type": "markdown",
      "metadata": {
        "id": "hZNqPvRy7sbL"
      },
      "source": [
        "Al igual que los números, no se debe confundir estos valores con las palabras **`\"True\"`** y **`\"False\"`** escritas en una cadena de texto."
      ]
    },
    {
      "cell_type": "code",
      "metadata": {
        "id": "fXyQ2xvG72qZ"
      },
      "source": [
        "type(\"False\")"
      ],
      "execution_count": null,
      "outputs": []
    },
    {
      "cell_type": "markdown",
      "metadata": {
        "id": "N1XbvNQF7-gf"
      },
      "source": [
        "Con esta variable podemos cumplir con nuestra primera necesidad.\n",
        "\n",
        "* Ser capaces de definir claramente estas condiciones y de evaluar si se cumplen o no.\n",
        "  > **¿Cómo representamos computacionalmente una expresión como \"_el usuario NO está registrado_\"?**\n",
        "\n",
        "De esta manera, podemos acceder a nuestra base de datos, y tras realizar una serie de procesos y evaluaciones condicionales elementales determinar que el usuario **NO** está registrado con el valor **`False`**.\n",
        "\n",
        "```python\n",
        "está_registrado = False\n",
        "```\n",
        "\n",
        "Note que al definir variables con valores _booleanos_ se recomienda tener nombres expresivos con significados como **el usuario está registrado (`está_registrado`**) o **el valor es válido** (**`es_válido`**). El valor contenido en esta variable indica si ese enunciado se cumple (**`True`**) o no (**`False`**).\n",
        "\n",
        "Este concepto es muy común, y es un valor de retorno recurrente en muchas funciones. Por ejemplo, las cadenas de texto cuentan con una familia de funciones para determinar las propiedades de un texto. Algunas de las más importantes son:\n",
        "\n",
        "*  **`s.islower()`** : Determina si la cadena está compuesta solo por caracteres en minúscula.\n"
      ]
    },
    {
      "cell_type": "code",
      "metadata": {
        "id": "jerTQDMY-8U_"
      },
      "source": [
        "# ¿La cadena 'hola' solo tiene caracteres en minúscula? -> VERDADERO\n",
        "\"hola\".islower()"
      ],
      "execution_count": null,
      "outputs": []
    },
    {
      "cell_type": "markdown",
      "metadata": {
        "id": "2Mz7HglB-7ob"
      },
      "source": [
        "*  **`s.isupper()`** : Determina si la cadena está compuesta solo por caracteres en mayúscula.\n"
      ]
    },
    {
      "cell_type": "code",
      "metadata": {
        "id": "uk6hUPNG_Q0x"
      },
      "source": [
        "# ¿La cadena 'Hola Mundo' solo tiene caracteres en mayúscula? -> FALSO\n",
        "\"Hola Mundo\".isupper()"
      ],
      "execution_count": null,
      "outputs": []
    },
    {
      "cell_type": "markdown",
      "metadata": {
        "id": "a6W0rcsd_BPw"
      },
      "source": [
        "*  **`s.isdigit()`** : Determina si la cadena está compuesta solo por dígitos del 0 al 9.\n"
      ]
    },
    {
      "cell_type": "code",
      "metadata": {
        "id": "No5gtU_k_RYo"
      },
      "source": [
        "# ¿La cadena '1299' solo tiene dígitos del 0 al 9? -> VERDADERO\n",
        "\"1299\".isdigit()"
      ],
      "execution_count": null,
      "outputs": []
    },
    {
      "cell_type": "markdown",
      "metadata": {
        "id": "vt4YU7ho_CJO"
      },
      "source": [
        "*  **`s.isalpha()`** : Determina si la cadena está compuesta solo por caracteres alfabéticos."
      ]
    },
    {
      "cell_type": "code",
      "metadata": {
        "id": "44g1QlJ0_RzI"
      },
      "source": [
        "# ¿La cadena 'Python 3' solo tiene caracteres del alfabeto entre A y Z? -> FALSO\n",
        "\"Python 3\".isalpha()"
      ],
      "execution_count": null,
      "outputs": []
    },
    {
      "cell_type": "markdown",
      "metadata": {
        "id": "THskcwkb_sC0"
      },
      "source": [
        "*  **`s.isalnum()`** : Determina si la cadena está compuesta solo por caracteres alfabéticos y/o numéricos."
      ]
    },
    {
      "cell_type": "code",
      "metadata": {
        "id": "I2ttiuNn_hHM"
      },
      "source": [
        "# ¿La cadena '¡¡¡Python 3!!!' solo tiene caracteres alfanuméricos? -> FALSO\n",
        "\"¡¡¡Python 3!!!\".isalnum()"
      ],
      "execution_count": null,
      "outputs": []
    },
    {
      "cell_type": "markdown",
      "metadata": {
        "id": "ha9AeQtno_7W"
      },
      "source": [
        "\n",
        "Como estos, existen muchos [métodos](https://www.w3schools.com/python/python_ref_string.asp) que se pueden ejecutar en cadenas de texto con utilidades distintas. Otro ejemplo claro es identificar si un valor corresponde a un tipo de dato en particular, posible con la función **`isinstance`**:"
      ]
    },
    {
      "cell_type": "code",
      "metadata": {
        "id": "M7s32kgcAdMM"
      },
      "source": [
        "# ¿El valor 500.5 es un valor de tipo entero (int)? -> FALSO\n",
        "isinstance(500.5, int)"
      ],
      "execution_count": null,
      "outputs": []
    },
    {
      "cell_type": "markdown",
      "metadata": {
        "id": "K6WbB16WQHl3"
      },
      "source": [
        "## **3. Expresiones _booleanas_**\n",
        "---\n",
        "\n",
        "Al igual que con los valores numéricos y de texto discutidos en la unidad anterior, existe una amplia variedad de operadores que producen expresiones _booleanas_.\n",
        "Entre ellos se encuentran operadores de tipos de datos como los numéricos que producen valores _booleanos_ y operadores que permiten realizar operaciones directamente entre valores _booleanos_.\n"
      ]
    },
    {
      "cell_type": "markdown",
      "metadata": {
        "id": "6UIgbgaAA3oe"
      },
      "source": [
        "### **3.1. Operadores relacionales**\n",
        "---\n",
        "\n",
        "> **¿Qué tipo de condiciones comunes podemos evaluar en números y en texto?**\n",
        "\n",
        "\n",
        "Ahora que conocemos el tipo de dato _booleano_ podemos discutir una familia de operadores clave en el manejo de valores numéricos. Esta es la familia de **operadores relacionales**, con la cual podemos comparar dos o más valores, dando como resultado una **expresión _booleana_**.\n",
        "\n",
        "\n",
        "A continuación, la lista completa de operadores relacionales aceptados en _Python_, con su significado, reglas de escritura y equivalente en notación matemática.\n",
        "\n",
        "| **Símbolos del operador** | **Operación representada** | **Escritura** | **Notación matemática** |\n",
        "| --- | --- | --- | --- |\n",
        "| **`==`** | Igual que | **`a == b`** | $a = b$ |\n",
        "| **`!=`** | Distinto que | **`a != b`** | $a \\ne b$ |\n",
        "| **`>`**  | Mayor que | **`a > b`** |$a \\gt b$ |\n",
        "| **`<`**  | Menor que | **`a < b`** | $a \\lt b$ |\n",
        "| **`>=`**  | Mayor o igual que | **`a >= b`** | $a \\ge b$ |\n",
        "| **`<=`**  | Menor o igual que | **`a <= b`** | $a \\le b$ |\n",
        "\n",
        "Empecemos con la pregunta más básica, de determinar si dos datos son **iguales**, evaluado con el operador **`==`**:\n",
        "\n",
        "> **Nota**: no se debe confundir el operador de asignación (**`a = b`**) y el de igualdad (**`a == b`**). El primero hace que $a$ tenga el valor $b$ mediante una reasignación de su valor, y el segundo determina si $a$ tiene el mismo valor que $b$, sin modificar ninguno de los dos valores.\n",
        "\n",
        "\n"
      ]
    },
    {
      "cell_type": "code",
      "metadata": {
        "id": "XBc49RoQCnXS"
      },
      "source": [
        "# Los valores tienen que ser estrictamente iguales.\n",
        "50.00000000 == 49.99999999"
      ],
      "execution_count": null,
      "outputs": []
    },
    {
      "cell_type": "code",
      "metadata": {
        "id": "uI21LQB50OHy"
      },
      "source": [
        "50.00000000 != 50.00000000"
      ],
      "execution_count": null,
      "outputs": []
    },
    {
      "cell_type": "markdown",
      "metadata": {
        "id": "LEesTQb5DL6_"
      },
      "source": [
        "Además de esta operación se plantea el escenario opuesto. ¿Los valores $a$ y $b$ son distintos? Para esto utilizamos el operador **`!=`**:"
      ]
    },
    {
      "cell_type": "code",
      "metadata": {
        "id": "K-slQSYgdzkz"
      },
      "source": [
        "# El valor binario 0b10 es igual al valor decimal 2.\n",
        "0b10 != 2"
      ],
      "execution_count": null,
      "outputs": []
    },
    {
      "cell_type": "markdown",
      "metadata": {
        "id": "Nh_dTpFXeS72"
      },
      "source": [
        "Luego, existen otros operadores para determinar si un valor es **menor** o **mayor** que otro. Para esto, como es lógico, usamos los operadores **`>`** y **`<`**, como en matemáticas."
      ]
    },
    {
      "cell_type": "code",
      "metadata": {
        "id": "OlM2lqRbepcU"
      },
      "source": [
        "100 < 1000"
      ],
      "execution_count": null,
      "outputs": []
    },
    {
      "cell_type": "code",
      "metadata": {
        "id": "tJNcpAi-esWr"
      },
      "source": [
        "100 > 1000"
      ],
      "execution_count": null,
      "outputs": []
    },
    {
      "cell_type": "markdown",
      "metadata": {
        "id": "xDUMS9IWeuxk"
      },
      "source": [
        "Para determinar la condición en la cual un dato es **mayor** (o **menor**) o por lo menos **igual**, usamos los operadores **`>=`** y **`<=`**, que se asemejan en escritura a los operadores matemáticos $\\ge$ y $\\le$.\n",
        "\n",
        "> **Nota:** es importante escribir los símbolos en el orden correcto. Las secuencias **`=>`** y **`=<`** **NO** son operadores válidos."
      ]
    },
    {
      "cell_type": "code",
      "metadata": {
        "id": "7MpyCvSCfeWk"
      },
      "source": [
        "# 100 no es igual pero no mayor ni menor que 100.\n",
        "100 > 100"
      ],
      "execution_count": null,
      "outputs": []
    },
    {
      "cell_type": "code",
      "metadata": {
        "id": "_TUG8zZqfjS0"
      },
      "source": [
        "# 100 es por lo menos igual que 100.\n",
        "100 >= 100"
      ],
      "execution_count": null,
      "outputs": []
    },
    {
      "cell_type": "markdown",
      "metadata": {
        "id": "w6uNIYf0jvoB"
      },
      "source": [
        "Estos operadores no son exclusivos de los valores numéricos. De acuerdo con el operador, los programadores pueden definir la operación correspondiente para un operador determinado. Lo más normal es utilizar los operadores **`==`** y **`!=`** para evaluar la igualdad de sus valores. Veamos un ejemplo con cadenas de texto:"
      ]
    },
    {
      "cell_type": "code",
      "metadata": {
        "id": "uifAHPNNkGui"
      },
      "source": [
        "'Python' == 'python'"
      ],
      "execution_count": null,
      "outputs": []
    },
    {
      "cell_type": "code",
      "metadata": {
        "id": "33H_9BxikO9U"
      },
      "source": [
        "'Python' != 'python'"
      ],
      "execution_count": null,
      "outputs": []
    },
    {
      "cell_type": "code",
      "metadata": {
        "id": "j09bSdkC1Umr"
      },
      "source": [
        "'Python' == 'Python'"
      ],
      "execution_count": null,
      "outputs": []
    },
    {
      "cell_type": "markdown",
      "metadata": {
        "id": "UnBnnGu6mdep"
      },
      "source": [
        "¿Y qué pasa con los demás operadores? Una cadena es mayor que otra siguiendo criterios de [**orden lexicográfico**](https://en.wikipedia.org/wiki/Alphabetical_order). Esto se refiere al orden en el que están codificados los caracteres de las dos cadenas. En ese sentido **`'b'`** es menor que **`'c'`**, pues aparece antes en el alfabeto, pero es **mayor** que **`'C'`**, pues las mayúsculas están codificadas antes que las minúsculas.\n",
        "\n"
      ]
    },
    {
      "cell_type": "code",
      "metadata": {
        "id": "_9xI5LGfnVhc"
      },
      "source": [
        "'b' < 'c'"
      ],
      "execution_count": null,
      "outputs": []
    },
    {
      "cell_type": "code",
      "metadata": {
        "id": "ZvfmMa37m1dh"
      },
      "source": [
        "'b' < 'C'"
      ],
      "execution_count": null,
      "outputs": []
    },
    {
      "cell_type": "code",
      "metadata": {
        "id": "v1pwrLOQna7V"
      },
      "source": [
        "# Los dígitos van antes que las mayúsculas, que van antes que las minúsculas.\n",
        "'1' < 'B'"
      ],
      "execution_count": null,
      "outputs": []
    },
    {
      "cell_type": "markdown",
      "metadata": {
        "id": "vOXNy_4znUPv"
      },
      "source": [
        "En caso de empate se siguen comparando los siguientes caracteres de la cadena hasta que una de ellas se quede sin estos o que se encuentre una diferencia."
      ]
    },
    {
      "cell_type": "code",
      "metadata": {
        "id": "-FXdCAhonwft"
      },
      "source": [
        "# Al desempatar, 'F' es menor que 'G'\n",
        "'ABCDEF' > 'ABCDEG'"
      ],
      "execution_count": null,
      "outputs": []
    },
    {
      "cell_type": "code",
      "metadata": {
        "id": "FpYuQXFTly2y"
      },
      "source": [
        "# La cadena que se queda sin caracteres antes es lexicográficamente menor.\n",
        "'ABC' < 'ABCD'"
      ],
      "execution_count": null,
      "outputs": []
    },
    {
      "cell_type": "code",
      "metadata": {
        "id": "Wn3ZJSumwkqP"
      },
      "source": [
        "# Al comparar si el valor booleano True es igual a la cadena \"True\",\n",
        "# el resultado será False\n",
        "True == \"True\""
      ],
      "execution_count": null,
      "outputs": []
    },
    {
      "cell_type": "code",
      "metadata": {
        "id": "yYnzkaD9yzK5"
      },
      "source": [
        "True == True"
      ],
      "execution_count": null,
      "outputs": []
    },
    {
      "cell_type": "markdown",
      "metadata": {
        "id": "vheULyCFys5m"
      },
      "source": [
        "#### **3.1.1. Tabla de precedencia de operadores**\n",
        "---\n"
      ]
    },
    {
      "cell_type": "markdown",
      "metadata": {
        "id": "dZwlTcdXgoAh"
      },
      "source": [
        "Con la introducción de estos operadores podemos expandir la tabla de precedencia de operadores. En este sentido, todos los operadores relacionales tienen la misma precedencia, siendo la segunda menor después del operador de asignación.\n",
        "\n",
        "| Operador | Asociatividad | Descripción |\n",
        "| --- | --- | --- |\n",
        "| **`(expresión)`** |  Izquierda a derecha | Expresión en paréntesis. |\n",
        "|  __`**`__  | Derecha a izquierda | Exponenciación. |\n",
        "| **`-x`**, **`+x`** | Izquierda a derecha | Positivo y negativo. |\n",
        "| **`*`**, **`/`**, **`%`** , **`//`**|Izquierda a derecha |  Multiplicación, división, módulo y división piso. |\n",
        "| **`+`**, **`-`**| Izquierda a derecha | Adición y substracción. |\n",
        "| **`==`**, **`!=`**, **`>`**,**`<`**, **`>=`**, **`<=`**| **Izquierda a derecha** | **Operadores relacionales.** |\n",
        "| **`=`**| Derecha a izquierda | Asignación. |\n",
        "\n",
        "\n",
        "Veamos un ejemplo con una expresión matemática:"
      ]
    },
    {
      "cell_type": "code",
      "metadata": {
        "id": "-fsVEw8NxUXv"
      },
      "source": [
        "5 + 2 * (8 + 2) - 30 / 10\n",
        "# 5 + 2 * 10 - 30 / 10\n",
        "# 5 + 20 - 30 / 10\n",
        "# 5 + 20 - 3\n",
        "# 25 - 3\n",
        "# 22\n",
        "\n"
      ],
      "execution_count": null,
      "outputs": []
    },
    {
      "cell_type": "markdown",
      "metadata": {
        "id": "eNqPYQc1xU5R"
      },
      "source": [
        "Con expresiones que involucren operadores relacionales, siempre se evalúan y resuelven primero las operaciones matemáticas."
      ]
    },
    {
      "cell_type": "code",
      "metadata": {
        "id": "DGAwtNcxjTgH"
      },
      "source": [
        "3 ** (5 - 3) > (9 - 4) * 4\n",
        "# 3 ** 2 > (9 - 4) * 4\n",
        "# 3 ** 2 > 5 * 4\n",
        "# 9 > 5 * 4\n",
        "# 9 > 20\n",
        "# False"
      ],
      "execution_count": null,
      "outputs": []
    },
    {
      "cell_type": "markdown",
      "metadata": {
        "id": "RX5_1qLjpb2j"
      },
      "source": [
        "### **3.2. Operadores lógicos**\n",
        "---\n",
        "Hasta ahora hemos visto como realizar operaciones en cadenas de texto y en valores numéricos para obtener valores _booleanos_. ¿Y si quisiéramos combinar valores _booleanos_ para obtener expresiones _booleanas_ que consideren varios valores?\n",
        "\n",
        "\n",
        "Por ejemplo, imagine que está encargado de los pedidos de una empresa. Para despachar un pedido debe verificar que la cantidad de productos sea mayor que 0 (no tiene sentido despachar productos negativos o nulos) y a su vez que la cantidad del pedido sea menor que la cantidad de productos que se tienen en inventario.\n",
        "\n",
        "Una forma de realizar este tipo de combinaciones es con los **operadores lógicos**, que corresponden a la rama de la lógica matemática. Por ejemplo, para el ejemplo anterior queremos que se cumpla:\n",
        "\n",
        "* **Condición $A$**: La cantidad de productos del pedido (**`n_pedido`**) sea mayor que $0$.\n",
        "\n",
        "  ```python\n",
        "    n_pedido > 0\n",
        "  ```\n",
        "*  **Condición $B$**: La cantidad de productos del pedido (**`n_pedido`**) debe ser menor o igual a la cantidad de productos en el inventario (**`n_inventario`**).\n",
        "\n",
        "  ```python\n",
        "    n_pedido <= n_inventario\n",
        "  ```\n",
        "\n",
        "\n",
        "En este sentido queremos que se cumpla la condición $A$ **Y** la condición $B$, escrita en _Python_ con el operador **`and`**, con la forma **`A and B`**. Esta expresión se conoce como **conjunción lógica** (representada en matemáticas con el operador $A \\wedge B$) y solo se cumple si **ambas condiciones** se cumplen, es decir, si ambas expresiones tienen como valor **`True`**.\n",
        "\n",
        "\n",
        "\n"
      ]
    },
    {
      "cell_type": "code",
      "metadata": {
        "id": "Hlg3yqeIzJhx"
      },
      "source": [
        "# Ejemplo del pedido y el stock.\n",
        "n_pedido = 4\n",
        "n_inventario = 100\n",
        "\n",
        "(n_pedido > 0) and (n_pedido <= n_inventario)"
      ],
      "execution_count": null,
      "outputs": []
    },
    {
      "cell_type": "markdown",
      "metadata": {
        "id": "sRdkZB_DCowR"
      },
      "source": [
        "Veamos una tabla (conocida típicamente como tabla de verdad) con las posibles combinaciones de valores de $A$ y $B$ para la conjunción.\n",
        "\n",
        "\n",
        "| **Valor de $A$** | **Valor de $B$** | **Valor de $A \\wedge B$** |\n",
        "| --- | --- | --- |\n",
        "| Falso (**`False`**) | Falso (**`False`**) | Falso (**`False`**) |\n",
        "| Falso (**`False`**) | Verdadero (**`True`**) | Falso (**`False`**) |\n",
        "| Verdadero (**`True`**) | Falso (**`False`**) | Falso (**`False`**) |\n",
        "| **Verdadero** (**`True`**) | **Verdadero** (**`True`**) | **Verdadero** (**`True`**) |\n",
        "\n",
        "\n",
        "Realicemos la ejecución de los casos de la tabla:"
      ]
    },
    {
      "cell_type": "code",
      "metadata": {
        "id": "4zDVYICPy_m4"
      },
      "source": [
        "False and False"
      ],
      "execution_count": null,
      "outputs": []
    },
    {
      "cell_type": "code",
      "metadata": {
        "id": "5wWfBL5jzDrX"
      },
      "source": [
        "False and True"
      ],
      "execution_count": null,
      "outputs": []
    },
    {
      "cell_type": "code",
      "metadata": {
        "id": "G3PtITrNzD_G"
      },
      "source": [
        "True and False"
      ],
      "execution_count": null,
      "outputs": []
    },
    {
      "cell_type": "code",
      "metadata": {
        "id": "jzhCT_AWzEQX"
      },
      "source": [
        "True and True"
      ],
      "execution_count": null,
      "outputs": []
    },
    {
      "cell_type": "markdown",
      "metadata": {
        "id": "X60opzxczuK4"
      },
      "source": [
        "Otro ejemplo. Considere una red social que permite realizar su registro con una cuenta de correo electrónico o con un teléfono móvil. Al solicitar esta información se pueden cumplir dos condiciones.\n",
        "\n",
        "* **Condición $A$:** El usuario ingresa una cuenta de correo electrónica válida y que está registrada en el sistema.\n",
        "\n",
        "  ```python\n",
        "    is_valid_email\n",
        "  ```\n",
        "\n",
        "* **Condición $B$:** El usuario ingresa un número de teléfono móvil válido y que está registrado en el sistema.\n",
        "  ```python\n",
        "    is_valid_phone\n",
        "  ```\n",
        "\n",
        "Para que el usuario pueda acceder solo es necesario que se cumpla alguna de las condiciones. Necesitamos que se cumpla la condición $A$ **O** la condición $B$, escrito en _Python_ como **`A or B`**. Esta expresión se conoce como **disyunción lógica** (representada en matemáticas con el operador $A \\lor B$) y solo se cumple si **alguna de las condiciones** se cumple.\n",
        "\n",
        "> **Nota**: esto es distinto a decir que **solo una** de las condiciones se cumpla. En el caso de la disyunción si ambas condiciones se cumplen el valor de la expresión es **verdadero**.\n"
      ]
    },
    {
      "cell_type": "code",
      "metadata": {
        "id": "WF_TaOGU_Wub"
      },
      "source": [
        "# Ejemplo del registro con teléfono o email.\n",
        "\n",
        "is_valid_email = False\n",
        "is_valid_phone = True\n",
        "\n",
        "is_valid_email or is_valid_phone"
      ],
      "execution_count": null,
      "outputs": []
    },
    {
      "cell_type": "markdown",
      "metadata": {
        "id": "UD5DNY0WCw7d"
      },
      "source": [
        "Veamos la tabla de verdad con las posibles combinaciones de valores de $A$ y $B$ para la disyunción.\n",
        "\n",
        "| **Valor de $A$** | **Valor de $B$** | **Valor de $A \\lor B$** |\n",
        "| --- | --- | --- |\n",
        "| Falso (**`False`**) | Falso (**`False`**) | Falso (**`False`**) |\n",
        "| Falso (**`False`**) | **Verdadero** (**`True`**)  | **Verdadero** (**`True`**)  |\n",
        "| **Verdadero** (**`True`**) | Falso (**`False`**) | **Verdadero** (**`True`**)  |\n",
        "| **Verdadero** (**`True`**) | **Verdadero** (**`True`**) | **Verdadero** (**`True`**) |\n",
        "\n",
        "Realicemos la ejecución de los casos de la tabla:"
      ]
    },
    {
      "cell_type": "code",
      "metadata": {
        "id": "iRj-MAsP_Prh"
      },
      "source": [
        "False or False"
      ],
      "execution_count": null,
      "outputs": []
    },
    {
      "cell_type": "code",
      "metadata": {
        "id": "T_ACNL_G_RoF"
      },
      "source": [
        "False or True"
      ],
      "execution_count": null,
      "outputs": []
    },
    {
      "cell_type": "code",
      "metadata": {
        "id": "N-TFOXBn_R9M"
      },
      "source": [
        "True or False"
      ],
      "execution_count": null,
      "outputs": []
    },
    {
      "cell_type": "code",
      "metadata": {
        "id": "dwLZaqve_SQG"
      },
      "source": [
        "True or True"
      ],
      "execution_count": null,
      "outputs": []
    },
    {
      "cell_type": "markdown",
      "metadata": {
        "id": "FkmjmAZPVL5q"
      },
      "source": [
        "Existe un error muy común al escribir expresiones _booleanas_:\n",
        "  \n",
        "> **¿Qué sucede si tenemos una variable `num` y queremos verificar si su valor es $5$, $6$ o $7$?.**\n",
        "\n",
        "En palabras podríamos decir algo como _\"¿**`num`** es igual a $5$ o $6$ o $7$?\"_. Sin embargo, si traducimos esto a _Python_:\n",
        "\n",
        "  ```python\n",
        "   num == 5 or 6 or 7\n",
        "  ```\n",
        "\n",
        "Esta expresión no es correcta y produce un resultado inesperado. El operador **`or`** debe unir los resultados de las tres condiciones de igualdad, pues cada extremo del operador **`or`** espera una expresión _booleana_ y recibe un valor numérico. La forma correcta de escribir esta expresión es la siguiente:\n",
        "  ```python\n",
        "    num == 5 or num == 6 or num == 7\n",
        "  ```"
      ]
    },
    {
      "cell_type": "code",
      "metadata": {
        "id": "M8ozp8y4WZBR"
      },
      "source": [
        "num = 7\n",
        "\n",
        "num == 5 or 6 or 7 # Incorrecto"
      ],
      "execution_count": null,
      "outputs": []
    },
    {
      "cell_type": "code",
      "metadata": {
        "id": "1CG_x79GWqdL"
      },
      "source": [
        "num = 7\n",
        "\n",
        "num == 5 or num == 6 or num == 7 # Correcto"
      ],
      "execution_count": null,
      "outputs": []
    },
    {
      "cell_type": "markdown",
      "metadata": {
        "id": "zT2FzwCQ_pMS"
      },
      "source": [
        "Por último, considere que realizamos una revisión del estado de un servidor, que nos retorna un valor *booleano* con el resultado de las pruebas realizadas. La única condición que se considera es la siguiente:\n",
        "\n",
        "* **Condición $A$**: El servidor pasa satisfactoriamente las pruebas.\n",
        "\n",
        "  ```python\n",
        "    tests_passed\n",
        "  ```\n",
        "\n",
        "En este caso, queremos realizar un reporte de alerta cuando **NO** se pasen las pruebas. Para esto, usamos el último operador lógico de la **negación lógica** (representada en matemáticas con la notación $\\lnot A$), realizado con el operador **`not`** antes de una expresión _booleana_.\n",
        "\n",
        "\n",
        "\n"
      ]
    },
    {
      "cell_type": "code",
      "metadata": {
        "id": "ySEuZ1-CDKJ6"
      },
      "source": [
        "tests_passed = True\n",
        "\n",
        "not tests_passed"
      ],
      "execution_count": null,
      "outputs": []
    },
    {
      "cell_type": "markdown",
      "metadata": {
        "id": "A8sjW5zGDLNs"
      },
      "source": [
        "Veamos la tabla de verdad con las posibles combinaciones de valores de $A$ y $B$ para la disyunción.\n",
        "\n",
        "| **Valor de $A$** | **Valor de $\\lnot A$** |\n",
        "| --- | --- |\n",
        "| Falso (**`False`**) | **Verdadero** (**`True`**)  |\n",
        "| Verdadero (**`True`**)  | Falso (**`False`**) |\n",
        "\n",
        "Realicemos la ejecución de los casos de la tabla:"
      ]
    },
    {
      "cell_type": "code",
      "metadata": {
        "id": "vgf59c0bDeLw"
      },
      "source": [
        "not False"
      ],
      "execution_count": null,
      "outputs": []
    },
    {
      "cell_type": "code",
      "metadata": {
        "id": "DW7sBgwkDhM_"
      },
      "source": [
        "not True"
      ],
      "execution_count": null,
      "outputs": []
    },
    {
      "cell_type": "markdown",
      "metadata": {
        "id": "mJWpbzDdEECZ"
      },
      "source": [
        "En resumen, añadimos los operadores **`and`**, **`or`** y **`not`** a la tabla de operadores válidos en el lenguaje de programación _Python_.\n",
        "\n",
        "| **Símbolos del operador** | **Operación representada** | **Escritura** | **Notación matemática** |\n",
        "| --- | --- | --- | --- |\n",
        "| **`and`** | Conjunción lógica | **`a and b`** | $a \\wedge b$ |\n",
        "| **`or`** | Disyunción lógica | **`a or b`** | $a \\lor b$ |\n",
        "| **`not`**  | Negación lógica | **`not a`** | $\\lnot a$ |\n",
        "\n",
        "\n",
        "Finalmente, podemos realizar expresiones compuestas con los tres operadores lógicos con la ayuda de paréntesis y usar expresiones _booleanas_ como las obtenidas al usar operadores relacionales:"
      ]
    },
    {
      "cell_type": "code",
      "metadata": {
        "id": "WApCDIIiEKmd"
      },
      "source": [
        "a = 10\n",
        "b = 5\n",
        "\n",
        "a < b  or not (a == 0 or b == 0)"
      ],
      "execution_count": null,
      "outputs": []
    },
    {
      "cell_type": "markdown",
      "metadata": {
        "id": "MtAl93XSEUo3"
      },
      "source": [
        "> **¿En qué orden se evalúan los operadores lógicos?**\n",
        "\n",
        "Podemos expandir nuevamente la tabla de precedencia de operadores. En este caso, los operadores lógicos tienen la menor precedencia de los operadores introducidos (sin contar la asignación) y tienen valores distintos de precedencia. El primer valor en evaluarse es la negación **`not`**, luego la conjunción **`and`** y finalmente la disyunción **`or`**.\n",
        "\n",
        "| Operador | Asociatividad | Descripción |\n",
        "| --- | --- | --- |\n",
        "| **`(expresión)`** |  Izquierda a derecha | Expresión en paréntesis. |\n",
        "|  __`**`__  | Derecha a izquierda | Exponenciación. |\n",
        "| **`-x`**, **`+x`** | Izquierda a derecha | Positivo y negativo. |\n",
        "| **`*`**, **`/`**, **`%`** , **`//`**|Izquierda a derecha |  Multiplicación, división, módulo y división piso. |\n",
        "| **`+`**, **`-`**| Izquierda a derecha | Adición y substracción. |\n",
        "| **`==`**, **`!=`**, **`>`**,**`<`**, **`>=`**, **`<=`**| **Izquierda a derecha** | **Operadores relacionales.** |\n",
        "| **`not`** |  **Izquierda a derecha** | **Negación lógica.** |\n",
        "| **`and`** |  **Izquierda a derecha** | **Disyunción lógica.** |\n",
        "| **`or`** |  **Izquierda a derecha** | **Conjunción lógica.** |\n",
        "| **`=`**| Derecha a izquierda | Asignación. |\n",
        "\n",
        "Veamos un ejemplo de expresión que involucre operadores lógicos, relacionales y matemáticos."
      ]
    },
    {
      "cell_type": "markdown",
      "metadata": {
        "id": "wNjpbLglHWOy"
      },
      "source": [
        "> **Pregunta:** ¿En qué orden se evalúa esta expresión? Intente realizar la operación en su mente, en celdas nuevas o en una hoja de papel antes de ejecutar la celda o revisar la respuesta.\n",
        "\n",
        "\n",
        "```python\n",
        "not ((5 + 100) / 2 > 23 or 2 ** 8 == 4 ** 4) or not 100 < 100\n",
        "```\n",
        "\n",
        "<details>\n",
        "  <summary> <b>Respuesta</b> </summary>\n",
        "\n",
        "> Empezamos de arriba a abajo revisando la aparición de operadores en la expresión. Cuando se encuentra una expresión dentro de paréntesis se empiezan a aplicar las reglas desde el inicio de la tabla para resolver esa expresión. Por esta razón, al empezar a evaluar el primer paréntesis lo primero que se evalúa en la expresión es el paréntesis interno, y luego la suma que este contiene.\n",
        "\n",
        "  ```python\n",
        "    # Paréntesis I.\n",
        "      # Paréntesis II (interno)\n",
        "        # Suma I.\n",
        "    not (105 / 2 > 23 or 2 ** 8 == 4 ** 4) or not 100 < 100\n",
        "  ```\n",
        "\n",
        "  ```python\n",
        "    # Exponenciación I (de derecha a izquierda).\n",
        "    not (105 / 2 > 23 or 2 ** 8 == 256) or not 100 < 100\n",
        "  ```\n",
        "\n",
        "  ```python\n",
        "    # Exponenciación II.\n",
        "    not (105/ 2 > 23 or 256 == 256) or not 100 < 100\n",
        "  ```\n",
        "\n",
        "  ```python\n",
        "    # Multiplicación y división II.\n",
        "    not (52.5 > 23 or 256 == 256) or not 100 < 100\n",
        "  ```\n",
        "\n",
        "  ```python\n",
        "    # Comparación I (>).\n",
        "    not (True or 256 == 256) or not 100 < 100\n",
        "  ```\n",
        "\n",
        "  ```python\n",
        "    # Comparación II (==).\n",
        "    not (True or True) or not 100 < 100\n",
        "  ```\n",
        "\n",
        "  ```python\n",
        "    # Disyunción I (or). Fin del paréntesis II.\n",
        "    not True or not 100 < 100\n",
        "  ```\n",
        "\n",
        "> Al terminar la expresión dentro del paréntesis se retoma el orden de las operaciones restantes. A fuera de la expresión, la operación con mayor precedencia es la comparación \"menor que\".\n",
        "\n",
        "  ```python\n",
        "    # Comparación III (<). Fuera del paréntesis.\n",
        "    not True or not False\n",
        "  ```\n",
        "\n",
        "  ```python\n",
        "    # Negación I.\n",
        "    False or not False\n",
        "  ```\n",
        "\n",
        "  ```python\n",
        "    # Negación II.\n",
        "    False or True\n",
        "  ```\n",
        "\n",
        "  ```python\n",
        "    # Disyunción II.\n",
        "    True\n",
        "  ```\n",
        "\n",
        "\n",
        "</details>\n"
      ]
    },
    {
      "cell_type": "code",
      "metadata": {
        "id": "oHWNqvBYGqga"
      },
      "source": [
        "not ((5 + 100) / 2 > 23 or 2 ** 8 == 4 ** 4) or not 100 < 100"
      ],
      "execution_count": null,
      "outputs": []
    },
    {
      "cell_type": "markdown",
      "metadata": {
        "id": "dlW6TEpJMFUQ"
      },
      "source": [
        "## **4. Sentencias de control condicional**\n",
        "---\n",
        "\n",
        "Ya sabemos cómo definir, interpretar y manipular valores lógicos para representar preguntas o condiciones de problemas reales. Ahora necesitamos más herramientas para solucionar nuestra segunda necesidad:\n",
        "\n",
        "* Indicar qué parte del código se ejecuta cuando una condición se cumple y qué parte se ejecuta cuando no se cumple.\n",
        "\n",
        "  > **¿Cómo puede saber _Python_ cuál fragmento del código ejecutar si se cumple que \"_el usuario NO está registrado_\"?**\n",
        "\n",
        "\n",
        "Muchos lenguajes de programación comparten como característica central la definición de **estructuras** que permitan controlar el flujo de ejecución del código. Hasta el momento, hemos pasado por planteamientos de flujos secuenciales simples, en los que se ejecuta línea por línea cada instrucción.\n",
        "\n",
        "Hoy, nos enfocaremos en las **estructuras de control condicional** que permiten saltar código de acuerdo con condiciones lógicas.\n"
      ]
    },
    {
      "cell_type": "markdown",
      "metadata": {
        "id": "z9A0R0-jkbpC"
      },
      "source": [
        "### **4.1. Sentencia `if`**\n",
        "---\n",
        "El escenario es el siguiente: queremos ejecutar de manera secuencial nuestro código hasta que sea necesario realizar una bifurcación en el flujo de nuestro programa. En ese punto, el intérprete marca un punto más adelante en el código al cual se debe saltar si la condición no se cumple.\n",
        "\n",
        "<center>\n",
        "<img src = \"https://drive.google.com/uc?export=view&id=1-Wsj_X4FeXg-G7j_UUxWwKyre_U9BFvK\" alt = \"Estructura condicional if\" width = \"40%\">  </img>\n",
        "</center>\n",
        "\n",
        "En _Python_ se puede hacer este proceso con código muy expresivo y coherente, similar al lenguaje natural del inglés. La **sentencia condicional** básica se define con la palabra reservada **`if`**, de la siguiente manera:\n",
        "\n",
        "```python\n",
        "if CONDICIÓN:\n",
        "  # <---- El bloque de código debe estar correctamente indentado.\n",
        "  # <---- Por lo general se hace con el tabulador (o con 2 espacios en blanco).\n",
        "  # Código que se ejecuta si la condición es VERDADERA.\n",
        "  # ...\n",
        "# Código que se ejecuta si la condición es FALSA o cuando\n",
        "# termine de ejecutarse el código dentro de la estructura.\n",
        "```\n",
        "\n",
        "Para esto usamos la **sangría** o **indentación** del texto para marcar los fragmentos de código que se ejecutan dentro de la estructura del **`if`**. Esta sangría se realiza con caracteres de tabulación (tecla **`Tab`**). Todas las líneas en el mismo nivel de indentación corresponden al mismo bloque, y en este caso son las instrucciones que se ejecutan **SI** la condición del **`if`** se cumple.\n",
        "\n",
        "<center>\n",
        "<img src = \"https://drive.google.com/uc?export=view&id=1zLOgdDFrHQVWOlAgv115QlbCpTvVlkbm\" alt = \"Código ejemplo estructura if\" width = \"70%\">  </img>\n",
        "</center>\n",
        "\n",
        "\n",
        "\n",
        "Veamos un ejemplo:"
      ]
    },
    {
      "cell_type": "code",
      "metadata": {
        "id": "JiFh31ABeX2s"
      },
      "source": [
        "num = 5"
      ],
      "execution_count": null,
      "outputs": []
    },
    {
      "cell_type": "code",
      "metadata": {
        "id": "fOo4li8WXfEw"
      },
      "source": [
        "if num > 20:\n",
        "  num = 20\n",
        "  print('El número máximo permitido es 20.')\n",
        "\n",
        "print(num)"
      ],
      "execution_count": null,
      "outputs": []
    },
    {
      "cell_type": "markdown",
      "metadata": {
        "id": "VXW4O1Fyp83h"
      },
      "source": [
        "Si omite los dos puntos (**`:`**) la sentencia no se ejecutará y producirá un error de sintaxis."
      ]
    },
    {
      "cell_type": "code",
      "metadata": {
        "id": "_7QKoTZIqEXg"
      },
      "source": [
        "if 100 * 2 == 2 * 100\n",
        "  print(\"Las dos expresiones son equivalentes.\")"
      ],
      "execution_count": null,
      "outputs": []
    },
    {
      "cell_type": "markdown",
      "metadata": {
        "id": "G07ZNvsSizoE"
      },
      "source": [
        "La condición puede ser cualquier expresión _booleana_, en la forma de variables, valores literales u operaciones compuestas."
      ]
    },
    {
      "cell_type": "code",
      "metadata": {
        "id": "YH5a8fxEi8xU"
      },
      "source": [
        "is_valid = False\n",
        "\n",
        "if is_valid:\n",
        "  print(\"El nombre de usuario es correcto.\")\n",
        "\n",
        "# No se imprime nada. Intente cambiar el valor de 'is_valid'."
      ],
      "execution_count": null,
      "outputs": []
    },
    {
      "cell_type": "code",
      "metadata": {
        "id": "FfWchEMTjS6L"
      },
      "source": [
        "if True:\n",
        "  print(\"SIEMPRE verás este mensaje.\")\n",
        "\n",
        "if False:\n",
        "  print(\"NUNCA verás este mensaje.\")"
      ],
      "execution_count": null,
      "outputs": []
    },
    {
      "cell_type": "code",
      "metadata": {
        "id": "bcce6IV-N_W8"
      },
      "source": [
        "num = 100"
      ],
      "execution_count": null,
      "outputs": []
    },
    {
      "cell_type": "code",
      "metadata": {
        "id": "-HzWkQ0Njayk"
      },
      "source": [
        "if num > 20:\n",
        "  num = 20\n",
        "  print('El número máximo permitido es 20.')\n",
        "\n",
        "print(num)"
      ],
      "execution_count": null,
      "outputs": []
    },
    {
      "cell_type": "markdown",
      "metadata": {
        "id": "CWGjEuZ3j1n3"
      },
      "source": [
        "Veamos un ejemplo de ejecución con _Python Tutor_:"
      ]
    },
    {
      "cell_type": "code",
      "metadata": {
        "id": "16TljZX9jhH-"
      },
      "source": [
        "#@markdown * **Ejecute esta celda para instalar _Python Tutor_.**\n",
        "!pip3 -q install tutormagic\n",
        "%load_ext tutormagic"
      ],
      "execution_count": null,
      "outputs": []
    },
    {
      "cell_type": "code",
      "metadata": {
        "id": "AWOjItnrjyEv"
      },
      "source": [
        "%%tutor -s\n",
        "num = 50\n",
        "\n",
        "if num > 20 and num < 100:\n",
        "  num = 20\n",
        "  print('El número máximo permitido es 20.')\n",
        "\n",
        "print(num)"
      ],
      "execution_count": null,
      "outputs": []
    },
    {
      "cell_type": "markdown",
      "metadata": {
        "id": "eWazOJR1kJEJ"
      },
      "source": [
        "Note como la línea, que representa la siguiente línea a ejecutar, ignora el contenido del bloque cuando la condición no se cumple."
      ]
    },
    {
      "cell_type": "markdown",
      "metadata": {
        "id": "Q5EAqmcklXv1"
      },
      "source": [
        "### **4.2. Sentencia `else`**\n",
        "---\n",
        "\n",
        "Ya sabemos cómo crear bifurcaciones y comportamientos condicionales en nuestro código. En otro escenario, como en el escenario de registro y autenticación de usuarios propuesto al inicio de este material se requiere crear dos bifurcaciones para los dos posibles valores de la condición evaluada. Podríamos utilizar la sentencia **`if`** y la idea de negación lógica para crear algo como esto:"
      ]
    },
    {
      "cell_type": "code",
      "metadata": {
        "id": "jLZXWOjimzSM"
      },
      "source": [
        "is_registered = False\n",
        "\n",
        "if not is_registered:\n",
        "  print(\"El usuario no está registrado. Ingrese los siguientes datos.\")\n",
        "  is_registered = True\n",
        "\n",
        "if is_registered:\n",
        "  print(\"El usuario ya está registrado. Ingrese su contraseña:\")"
      ],
      "execution_count": null,
      "outputs": []
    },
    {
      "cell_type": "markdown",
      "metadata": {
        "id": "lVJV2zWAnGAi"
      },
      "source": [
        "La lógica del anterior programa parece ser la correcta. Sin embargo, es un proceso tedioso (es muy valioso seguir como principio la reutilización de código y evitar redundancias), e incluso poco confiable, al evaluar valores lógicos que se podrían haber modificado en el primer fragmento de código.\n",
        "\n",
        "<center>\n",
        "<img src = \"https://drive.google.com/uc?export=view&id=19Op5z59N8CrC1-_XsJhyN12_DPxq0McQ\" alt = \"Estructura condicional con ruta falso\" width = \"50%\">  </img>\n",
        "</center>\n",
        "\n",
        "Es por esto por lo que _Python_ implementa la sentencia **`else`**, del inglés **si no**, con la posibilidad de crear una ruta alternativa a partir de la misma condición. Esta se puede definir con la siguiente sintaxis:\n",
        "\n",
        "\n",
        "```python\n",
        "if CONDICIÓN:\n",
        "  # Código que se ejecuta si la condición es VERDADERA.\n",
        "  # ...\n",
        "else:\n",
        "  # Código que se ejecuta si la condición es FALSA.\n",
        "  # ...\n",
        "\n",
        "# Código que se ejecuta cuando termine de ejecutarse\n",
        "# el código dentro de alguna de las estructuras.\n",
        "```\n",
        "\n",
        "De nuevo es importante tener cuidado con la indentación del código. Tanto la sentencia **`if`** como la sentencia **`else`** deben estar en un nivel de indentación menor que sus fragmentos de código asociados."
      ]
    },
    {
      "cell_type": "code",
      "metadata": {
        "id": "5Dh19kBmpLPS"
      },
      "source": [
        "# Pruebe a cambiar el valor de la variable 'a'\n",
        "a = 100\n",
        "\n",
        "if a > 0:\n",
        "  print('El número ingresado es positivo.')\n",
        "else:\n",
        "  print('El número ingresado es negativo o cero.')"
      ],
      "execution_count": null,
      "outputs": []
    },
    {
      "cell_type": "code",
      "metadata": {
        "id": "FFmUPKCGpgk6"
      },
      "source": [
        "if True:\n",
        "  print(\"SIEMPRE verás este mensaje.\")\n",
        "else:\n",
        "  print(\"NUNCA verás este mensaje.\")"
      ],
      "execution_count": null,
      "outputs": []
    },
    {
      "cell_type": "markdown",
      "metadata": {
        "id": "R7Wr_2x0pjv4"
      },
      "source": [
        "Si el código que queremos escribir es de una línea, podemos escribirlo al frente de los dos puntos **`:`**, como se muestra en el siguiente ejemplo:"
      ]
    },
    {
      "cell_type": "code",
      "metadata": {
        "id": "T_jKDLQPpu8V"
      },
      "source": [
        "if 15 ** 2 > 100: print(\"15 al cuadrado es mayor que 100.\")\n",
        "else: print(\"15 al cuadrado NO es mayor que 100.\")"
      ],
      "execution_count": null,
      "outputs": []
    },
    {
      "cell_type": "markdown",
      "metadata": {
        "id": "jn2veJd2qS1N"
      },
      "source": [
        "Veamos un ejemplo de ejecución con _Python Tutor_:"
      ]
    },
    {
      "cell_type": "code",
      "metadata": {
        "cellView": "form",
        "id": "Hn_6ZLX2qS1O"
      },
      "source": [
        "#@markdown * **Ejecute esta celda para instalar _Python Tutor_.**\n",
        "!pip3 -q install tutormagic\n",
        "%load_ext tutormagic"
      ],
      "execution_count": null,
      "outputs": []
    },
    {
      "cell_type": "code",
      "metadata": {
        "id": "Eiaw3SCDqS1O"
      },
      "source": [
        "%%tutor -s -h 500\n",
        "num = input('Ingrese un número entero:')\n",
        "num = int(num)  # Convertimos la cadena obtenida en un número entero.\n",
        "\n",
        "\n",
        "if num % 2 == 0: # Si el resto de dividirlo por cero es 0 el número es par.\n",
        "  print('El número ingresado es par.')\n",
        "else:\n",
        "  print('El número ingresado es impar.')\n",
        "\n",
        "print(f'Número ingresado: {num}')"
      ],
      "execution_count": null,
      "outputs": []
    },
    {
      "cell_type": "markdown",
      "metadata": {
        "id": "yPcyi7B1zRzW"
      },
      "source": [
        "### **4.3. Sentencia `elif`**\n",
        "---\n",
        "\n",
        "Con las sentencias **`if`** y **`else`** podemos realizar bifurcaciones de hasta dos fragmentos de código paralelos. ¿Podemos recurrir a más bifurcaciones?\n",
        "\n",
        "Una tarea que puede surgir es determinar si nuestro programa en qué sistema operativo se tiene que ejecutar el programa. Gracias a que estos escenarios son excluyentes podemos realizar esta tarea con el uso de expresiones **`if`** y **`else`**.\n",
        "\n",
        "Para esto, podemos crear **sentencias condicionales anidadas** que funcionan con la definición de **sentencias condicionales** dentro de bloques de código creados por otra sentencia condicional.\n",
        "\n",
        "\n",
        "<center>\n",
        "<img src = \"https://drive.google.com/uc?export=view&id=13vZZahfRBgssqJTpfdvE3vCOYCWBDNyN\" alt = \"Estructura de sentencias condicionales anidadas\" width = \"70%\">  </img>\n",
        "</center>\n",
        "\n",
        "En el código que se ejecuta cuando no se cumple una condición podemos volver a definir otra sentencia **`if`** y hacer una pregunta nueva. Veamos el ejemplo para la detección del sistema operativo.\n",
        "\n",
        "> **Nota:** al realizar condiciones anidadas es más importante que nunca tener cuidado con la indentación. Cada bloque interno tiene un nivel más de indentación, y, por tanto, un carácter de tabulación adicional.\n",
        "<center>\n",
        "<img src = \"https://drive.google.com/uc?export=view&id=1cyS2CEPDkt3WTNyeklAmKcIAtddGcGRT\" alt = \"Código de ejemplo de sentencias condicionales anidadas\" width = \"70%\">  </img>\n",
        "</center>\n",
        "\n",
        "\n",
        "\n",
        "\n",
        "\n"
      ]
    },
    {
      "cell_type": "code",
      "metadata": {
        "cellView": "form",
        "id": "lcB76jfi55L3"
      },
      "source": [
        "#@markdown * **Ejecute esta celda para instalar _Python Tutor_.**\n",
        "!pip3 -q install tutormagic\n",
        "%load_ext tutormagic"
      ],
      "execution_count": null,
      "outputs": []
    },
    {
      "cell_type": "code",
      "metadata": {
        "id": "vJACefcw5RSE"
      },
      "source": [
        "%%tutor -s -h 500\n",
        "\n",
        "os = 'Linux'\n",
        "\n",
        "if os == 'Windows':\n",
        "  print(\"El sistema operativo es Windows.\")\n",
        "else: # No es Windows, formulemos otra pregunta.\n",
        "  if os == 'macOS':\n",
        "    print(\"El sistema operativo es macOS.\")\n",
        "  else: # Tampoco es macOS, formulemos otra pregunta.\n",
        "    if os == 'Linux':\n",
        "      print(\"El sistema operativo es Linux.\")\n",
        "    else: # Caso base: solo consideramos estos 3 sistemas.\n",
        "      # Terminamos el programa.\n",
        "      print(\"El sistema operativo identificado no es compatible.\")"
      ],
      "execution_count": null,
      "outputs": []
    },
    {
      "cell_type": "markdown",
      "metadata": {
        "id": "P_8YuP8a6GZi"
      },
      "source": [
        "En el ejercicio anterior, el programa avanza por las preguntas hasta que encuentra el sistema operativo que corresponde o hasta que se acaban los casos. La solución es perfectamente funcional, pero puede complicarse cuando se involucran más casos.\n",
        "\n",
        "Es por esta razón que surge la sentencia **`elif`**, comúnmente llamada **condición encadenada**, que resume la escritura de código al ingresar directamente la condición que evaluar como alternativa. Esta sigue la siguiente estructura:\n",
        "\n",
        "\n",
        "```python\n",
        "if CONDICIÓN_1:\n",
        "  # Código que se ejecuta si la condición es VERDADERA.\n",
        "  # ...\n",
        "elif CONDICIÓN_2:\n",
        "  # Código que se ejecuta si la condición 1 es FALSA\n",
        "  # y la condición 2 es VERDADERA.\n",
        "  # ...\n",
        "elif CONDICIÓN_3:\n",
        "  # Código que se ejecuta si la condición 1 y 2 son FALSAS\n",
        "  # y la condición 3 es VERDADERA.\n",
        "  # ...\n",
        "# ...\n",
        "else:\n",
        "  # Código que se ejecuta si todas las condiciones\n",
        "  # anteriores son FALSAS.\n",
        "  # ...\n",
        "\n",
        "# Código que se ejecuta cuando termine de ejecutarse\n",
        "# el código dentro de alguna de las estructuras.\n",
        "```\n",
        "\n",
        "Esta sintaxis reduce los niveles de indentación y permite crear código claro y expresivo, con el mismo resultado. Veamos el equivalente con la sentencia **`elif`** del ejemplo de los sistemas operativos."
      ]
    },
    {
      "cell_type": "code",
      "metadata": {
        "cellView": "form",
        "id": "z8i4SSAV-znm"
      },
      "source": [
        "#@markdown * **Ejecute esta celda para instalar _Python Tutor_.**\n",
        "!pip3 -q install tutormagic\n",
        "%load_ext tutormagic"
      ],
      "execution_count": null,
      "outputs": []
    },
    {
      "cell_type": "code",
      "metadata": {
        "id": "LCsmM6pU-nA0"
      },
      "source": [
        "%%tutor -s -h 500\n",
        "\n",
        "os = 'macOS'\n",
        "\n",
        "if os == 'Windows':\n",
        "  print(\"El sistema operativo es Windows.\")\n",
        "elif os == 'macOS':\n",
        "  print(\"El sistema operativo es macOS.\")\n",
        "elif os == 'Linux':\n",
        "  print(\"El sistema operativo es Linux.\")\n",
        "else: # Caso base: solo consideramos estos 3 sistemas.\n",
        "  # Terminamos el programa.\n",
        "  print(\"El sistema operativo identificado no es compatible.\")"
      ],
      "execution_count": null,
      "outputs": []
    },
    {
      "cell_type": "markdown",
      "metadata": {
        "id": "QctrpTQI_Zsm"
      },
      "source": [
        "No existe límite para la definición de sentencias **`elif`**, pero solo puede existir una sentencia **`else`** al final de una cadena de condiciones."
      ]
    },
    {
      "cell_type": "markdown",
      "metadata": {
        "id": "6fhd1Wg6AGud"
      },
      "source": [
        "> **Pregunta:** Complete el siguiente código para escribir en pantalla la variable de mayor valor entre **`a`**, **`b`** y **`c`**. Las variables tienen valores **distintos**, por lo que puede ignorar empates."
      ]
    },
    {
      "cell_type": "code",
      "metadata": {
        "id": "SNHbrQEiAV42"
      },
      "source": [
        "a = 2\n",
        "b = 3\n",
        "c = 4\n",
        "\n",
        "# Complete el código:\n",
        "\n",
        "\n",
        "\n",
        "\n"
      ],
      "execution_count": null,
      "outputs": []
    },
    {
      "cell_type": "markdown",
      "metadata": {
        "id": "yym5MK2RBTx6"
      },
      "source": [
        "<details>\n",
        "  <summary> <b>Respuesta</b> </summary>\n",
        "\n",
        "> Una solución posible con **condiciones anidadas** es la siguiente:\n",
        "  ```python    \n",
        "    if a > b:\n",
        "      if a > c: print(\"a es la variable mayor.\")\n",
        "      else: print(\"c es la variable mayor.\")\n",
        "    else:\n",
        "      if b > c: print(\"b es la variable mayor.\")\n",
        "      else: print(\"c es la variable mayor.\")\n",
        "  ```\n",
        "\n",
        "> Otra solucion, con **condiciones encadenadas** y **operadores lógicos** es la siguiente:\n",
        "```python    \n",
        "    if a > b and a > c:      \n",
        "      print(\"a es la variable mayor.\")\n",
        "    elif b > a and b > c:\n",
        "      print(\"b es la variable mayor.\")\n",
        "    else: # Siempre y cuando sean todas distintas.\n",
        "      print(\"c es la variable mayor.\")\n",
        "  ```\n",
        "\n",
        "\n",
        "\n",
        "</details>\n"
      ]
    },
    {
      "cell_type": "markdown",
      "metadata": {
        "id": "e03quK0ZHTMI"
      },
      "source": [
        "### **4.4. Expresión condicional**\n",
        "---\n",
        "\n",
        "Las estructuras de control vistas hasta el momento están definidas como **sentencias** pues no tienen valor. No se puede asignar un **`if`** directamente a una variable o usarlo en una expresión.\n",
        "\n",
        "No obstante, _Python_ dispone de una solución idiomática y expresiva para la escritura rápida de expresiones cuyo valor dependen de la evaluación de una condición.\n",
        "\n",
        "Esta **expresión condicional** (a veces también llamada **operador ternario**) se escribe de la siguiente forma:\n",
        "\n",
        "```python\n",
        "valor_A if condición else valor_B\n",
        "```\n",
        "\n",
        "Esto se puede leer del inglés que pretende emular como _\"este valor es A si se cumple esto. De lo contrario es B\"_.\n",
        "\n",
        "Veamos un ejemplo:"
      ]
    },
    {
      "cell_type": "code",
      "metadata": {
        "id": "S3L5zoQiT4wj"
      },
      "source": [
        " # Conteo de intentos restantes\n",
        "count = 3\n",
        "\n",
        "if count == 1:\n",
        "  palabra = 'intento'\n",
        "else:\n",
        "  palabra = 'intentos'\n",
        "\n",
        "print(f\"Tienes {count} {palabra}.\")"
      ],
      "execution_count": null,
      "outputs": []
    },
    {
      "cell_type": "markdown",
      "metadata": {
        "id": "jOKmXFsIUJFI"
      },
      "source": [
        "El código anterior es equivalente a este, escrito con una expresión condicional:"
      ]
    },
    {
      "cell_type": "code",
      "metadata": {
        "id": "ZeNYFNzLLG6b"
      },
      "source": [
        "# Conteo de intentos restantes\n",
        "count = 3\n",
        "\n",
        "print(f\"Tienes {count} {'intento' if count == 1 else 'intentos'}.\")"
      ],
      "execution_count": null,
      "outputs": []
    },
    {
      "cell_type": "markdown",
      "metadata": {
        "id": "1nTRgBeKLgT0"
      },
      "source": [
        "La expresión\n",
        "```python\n",
        "'intento' if count == 1 else 'intentos'\n",
        "```\n",
        "\n",
        "evalúa si la cantidad es igual a $1$ o es distinta, para definir si la palabra \"intento\" se escribe en singular o en plural.\n",
        "\n"
      ]
    },
    {
      "cell_type": "markdown",
      "metadata": {
        "id": "lCwhPbndMX2m"
      },
      "source": [
        "> **Nota**: no se puede extender este tipo de expresiones con condiciones **`elif`** intermedias. Deberían ser usadas para facilitar la lectura del código y como sintaxis resumida."
      ]
    },
    {
      "cell_type": "markdown",
      "metadata": {
        "id": "mD8e_eBKBIR4"
      },
      "source": [
        "## **5. Sentencias de control de excepciones (Opcional)**\n",
        "---\n",
        "\n",
        "Como se ha discutido en varios ejemplos, cuando detalles como  el tipo de operación no son válidos, _Python_ genera un **error de ejecución**. Existe una estructura de control similar a las sentencias **`if`**, **`else`** y **`elif`** que permite capturar este tipo de excepciones y ejecutar código adicional.\n",
        "\n",
        "Esta es la pareja de sentencias **`try`** y **`except`**. En el bloque de código de la primera se ejecuta el código que puede producir errores, y en la rama de la segunda se definen las acciones a realizar cuando se identifica una excepción.\n",
        "\n",
        "> **Nota:** las excepciones de sintaxis no pueden ser capturadas por estas estructuras de control.\n",
        "\n"
      ]
    },
    {
      "cell_type": "code",
      "metadata": {
        "id": "en3yIzmNElVo"
      },
      "source": [
        "# Ejecutamos una conversión inválida.\n",
        "n = int(\"500$\")\n",
        "print(n)"
      ],
      "execution_count": null,
      "outputs": []
    },
    {
      "cell_type": "code",
      "metadata": {
        "id": "7r_MpjIiEC0i"
      },
      "source": [
        "# Realizamos la misma operación con try-except.\n",
        "try:\n",
        "  n = int(\"500$\")\n",
        "  print(n.sign())\n",
        "except:\n",
        "  print(\"Se ha producido un error.\")"
      ],
      "execution_count": null,
      "outputs": []
    },
    {
      "cell_type": "markdown",
      "metadata": {
        "id": "OxCYZBpPE1t_"
      },
      "source": [
        "En la sentencia **`except`** podemos indicar el tipo de excepción que queremos capturar. Por ejemplo, el error de conversión anterior es una excepción de tipo **`ValueError`**."
      ]
    },
    {
      "cell_type": "code",
      "metadata": {
        "id": "3gvemOr6FSP4"
      },
      "source": [
        "# Realizamos la misma operación con try-except.\n",
        "try:\n",
        "  n = int(\"500$\")\n",
        "  print(n.sign())\n",
        "except ValueError as error:\n",
        "    print(\"Se ha producido un error de tipo ValueError:\")\n",
        "    print(error)"
      ],
      "execution_count": null,
      "outputs": []
    },
    {
      "cell_type": "markdown",
      "metadata": {
        "id": "dk2JYP6IF6Ft"
      },
      "source": [
        "Cuando se identifica una excepción en el bloque **`try`**, se termina la ejecución del bloque y se pasa inmediatamente al bloque **`except`**. En el código anterior había un error de atributo (se intentó llamar un método que no existe), pero la ejecución no alcanzó a llegar a ese punto."
      ]
    },
    {
      "cell_type": "code",
      "metadata": {
        "id": "bW42WtMaGFea"
      },
      "source": [
        "try:\n",
        "  n = int(\"500\")\n",
        "  print(n.sign())\n",
        "except ValueError as error:\n",
        "    print(\"Se ha producido un error de tipo ValueError:\")\n",
        "    print(error)"
      ],
      "execution_count": null,
      "outputs": []
    },
    {
      "cell_type": "markdown",
      "metadata": {
        "id": "Q74vY8PyGTq7"
      },
      "source": [
        "Podemos capturar excepciones genéricas con el tipo de error **`Exception`**:"
      ]
    },
    {
      "cell_type": "code",
      "metadata": {
        "id": "rTM0-8GqGa6g"
      },
      "source": [
        "try:\n",
        "  n = int(\"500\")\n",
        "  print(n.sign())\n",
        "except Exception as error:\n",
        "    print(f\"Se ha producido un error de tipo {type(error)}:\")\n",
        "    print(error)"
      ],
      "execution_count": null,
      "outputs": []
    },
    {
      "cell_type": "markdown",
      "metadata": {
        "id": "6Y3hEYnHG0J4"
      },
      "source": [
        "Para más información acerca del tipo de excepciones identificadas por _Python_ puede consultar el siguiente [enlace](https://docs.python.org/3.7/library/exceptions.html)."
      ]
    },
    {
      "cell_type": "markdown",
      "metadata": {
        "id": "DB_GPl1ou_YI"
      },
      "source": [
        "## **Referencias**\n",
        "---\n",
        "Este material fue tomado y adaptado del libro _How to Think Like a Computer Scientist: Learning with Python 3_ (Capítulos 4 y 5).\n",
        "\n",
        " > _Copyright (C) Brad Miller, David Ranum, Jeffrey Elkner, Peter Wentworth, Allen B. Downey, Chris\n",
        "Meyers, and Dario Mitchell. Permission is granted to copy, distribute\n",
        "and/or modify this document under the terms of the GNU Free Documentation\n",
        "License, Version 1.3 or any later version published by the Free Software\n",
        "Foundation; with Invariant Sections being Forward, Prefaces, and\n",
        "Contributor List, no Front-Cover Texts, and no Back-Cover Texts. A copy of\n",
        "the license is included in the section entitled “GNU Free Documentation\n",
        "License”_\n",
        "\n",
        "*   [P. Wentworth, J. Elkner, A.B. Downey, C. Meyers - How to Think Like a Computer\n",
        "Scientist: Learning with Python 3\n",
        "Documentation (3rd Edition)](http://www.ict.ru.ac.za/Resources/cspw/thinkcspy3/thinkcspy3.pdf)\n",
        "*   [How to Think Like a Computer Scientist: Interactive Edition](http://interactivepython.org/courselib/static/thinkcspy/index.html)\n",
        "*   [Aprenda a Pensar Como un Programador\n",
        "con Python\n",
        " (español)](https://argentinaenpython.com/quiero-aprender-python/aprenda-a-pensar-como-un-programador-con-python.pdf)\n"
      ]
    },
    {
      "cell_type": "markdown",
      "metadata": {
        "id": "4r5hSQAz6d-g"
      },
      "source": [
        "## **Recursos adicionales**\n",
        "---\n",
        "\n",
        "En esta sección encontrará material adicional para reforzar los temas y conceptos discutidos:\n",
        "\n",
        "* [*Python* 3: documentación oficial.](https://docs.python.org/3/)\n",
        "* [_Python_: Tutorial de _Python_ (Español)](https://docs.python.org/es/3.7/tutorial/)\n",
        "  - [_Python_ - Boolean operations ](https://docs.python.org/es/3.7/reference/expressions.html#boolean-operations)\n",
        "  - [_Python_ - The if statement](https://docs.python.org/es/3.7/reference/compound_stmts.html#the-if-statement)\n"
      ]
    },
    {
      "cell_type": "markdown",
      "metadata": {
        "id": "lhP1s30ZTNco"
      },
      "source": [
        "## **Créditos**\n",
        "---\n",
        "\n",
        "* **Profesores:**\n",
        "  * [Felipe Restrepo Calle, PhD](https://dis.unal.edu.co/~ferestrepoca/)\n",
        "  * [Fabio Augusto González, PhD](https://dis.unal.edu.co/~fgonza/)\n",
        "  * [Jorge Eliecer Camargo, PhD](https://dis.unal.edu.co/~jecamargom/)\n",
        "* **Asistentes docentes:**\n",
        "  - Alberto Nicolai Romero Martínez\n",
        "  - Edder Hernández Forero\n",
        "\n",
        "**Universidad Nacional de Colombia** - *Facultad de Ingeniería*"
      ]
    }
  ]
}
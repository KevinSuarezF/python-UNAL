{
  "nbformat": 4,
  "nbformat_minor": 0,
  "metadata": {
    "colab": {
      "private_outputs": true,
      "provenance": [],
      "toc_visible": true,
      "include_colab_link": true
    },
    "kernelspec": {
      "name": "python3",
      "display_name": "Python 3"
    },
    "language_info": {
      "name": "python"
    }
  },
  "cells": [
    {
      "cell_type": "markdown",
      "metadata": {
        "id": "view-in-github",
        "colab_type": "text"
      },
      "source": [
        "<a href=\"https://colab.research.google.com/github/KevinSuarezF/python-UNAL/blob/main/NBK_2_2_Estructuras_de_control_iterativas.ipynb\" target=\"_parent\"><img src=\"https://colab.research.google.com/assets/colab-badge.svg\" alt=\"Open In Colab\"/></a>"
      ]
    },
    {
      "cell_type": "markdown",
      "source": [
        "<img src = \"https://drive.google.com/uc?export=view&id=1-e2h78n_V8yPXtNcfiouQAesudh9rNYu\" alt = \"Si no puede ver este encabezado le recomendamos que utilice un navegador distinto. Los navegadores probados son Google Chrome, Opera y Microsoft Edge.\" width = \"80%\">  </img>"
      ],
      "metadata": {
        "id": "HAQXZ5FSRRaB"
      }
    },
    {
      "cell_type": "markdown",
      "metadata": {
        "id": "qCo5PrkGaT7t"
      },
      "source": [
        "# **Estructuras de control iterativas con _Python_**\n",
        "---\n",
        "\n",
        "En este segundo material se discutirá la necesidad de plantear estrategias para la creación de código con ejecuciones cíclicas y repetitivas, introduciendo el concepto de ciclos condicionales y ciclos iterativos, así como estructuras que facilitan su uso."
      ]
    },
    {
      "cell_type": "markdown",
      "metadata": {
        "id": "2bTnAdrVyEyl"
      },
      "source": [
        "## **1.  Ciclos de código**\n",
        "---\n",
        "\n",
        "Con la introducción de las sentencias de control condicional tenemos a nuestro alcance la posibilidad de generar flujos complejos, con diversas bifurcaciones y rutas de acción que solo se ejecutan cuando ciertas condiciones se cumplen. No obstante, este tipo de código tiene necesariamente un final, cuando la rama más larga de condiciones se haya evaluado y el código correspondiente se haya ejecutado. ¿Cómo hacemos entonces para escribir código que se repita de manera indefinida, como el que tiene un servidor que recibe peticiones de un número indefinido de clientes o de un juego que se deba realizar hasta que el usuario gane o pierda?\n",
        "\n",
        "Por ejemplo, veamos el siguiente escenario del popular juego [Bingo](https://es.wikipedia.org/wiki/Bingo).\n",
        "\n",
        "<center>\n",
        "<img src = \"https://drive.google.com/uc?export=view&id=1y-eFYuPNFK_hghHbs3Ad84HZXTnvLmML\" alt = \"Bucles de código (Buscaminas)\" width = \"55%\">  </img> </center>\n",
        "\n",
        "Como veremos a continuuación, no es posible crear este tipo de programa con las instrucciones vistas hasta ahora. No obstante, su estructura se asemeja a la de programas con flujos condicionales con estructuras cíclicas en donde se retrocede en la ejecución del programa para repetir sentencias.\n",
        "\n"
      ]
    },
    {
      "cell_type": "markdown",
      "metadata": {
        "id": "T10V3MCKOYgW"
      },
      "source": [
        "## **2. Sentencia `while`**\n",
        "---\n",
        "\n",
        "Un programa que recree el juego de _Bingo_ debería ejecutar un bloque de código similar (las acciones realizadas en cada ronda) la cantidad de veces que sean necesarias, hasta que alguno de los jugadores gane el juego. Si por algún motivo se decide realizar un juego de bingo con un máximo de rondas, se podría hacer un código que realice la ejecución con sentencias condicionales.\n",
        "\n",
        "Si solo se tiene una ronda, se tendría un código como el siguiente:\n",
        "\n",
        "> **Nota:** Para este ejercicio asuma que la función **`nueva_boleta`** saca una boleta, actualiza los cartones y determina si hay un ganador.\n",
        "\n",
        "```python\n",
        "# Ronda 1 - Inicio\n",
        "if not hay_ganador:    \n",
        "    hay_ganador = nueva_boleta()\n",
        "    \n",
        "    if hay_ganador:\n",
        "      print(\"¡BINGO!\")   \n",
        "    else:\n",
        "      print(\"Ninguna de los cartones se completó. Fin del juego.\")\n",
        "    ###### Fin del juego por límite de rondas #####\n",
        "```\n",
        "\n",
        "Conforme el número de rondas crece se puede repetir el mismo código en forma de **condiciones anidadas**. Para dos rondas, tendríamos lo siguiente:\n",
        "\n",
        "```python\n",
        "if not hay_ganador:\n",
        "    # Ronda 1 - Inicio\n",
        "    hay_ganador = nueva_boleta()    \n",
        "    if hay_ganador:\n",
        "      print(\"¡BINGO!\")   \n",
        "    else:\n",
        "      # Ronda 2 - Inicio\n",
        "      hay_ganador = nueva_boleta()   \n",
        "      if hay_ganador:\n",
        "        print(\"¡BINGO!\")   \n",
        "      else:\n",
        "        print(\"Ninguna de los cartones se completó. Fin del juego.\")\n",
        "        ###### Fin del juego por límite de rondas #####\n",
        "```\n",
        "\n",
        "Y para cinco rondas:\n",
        "\n",
        "* **Nota:** ponga atención a la indentación y a cómo corresponden las sentencias **`if`** y las sentencias **`else`**.\n",
        "\n",
        "```python\n",
        "if not hay_ganador:\n",
        "    # Ronda 1 - Inicio\n",
        "    hay_ganador = nueva_boleta()    \n",
        "    if hay_ganador:\n",
        "      print(\"Ronda 1: ¡BINGO!\")   \n",
        "    else:\n",
        "      # Ronda 2 - Inicio\n",
        "      hay_ganador = nueva_boleta()    \n",
        "      if hay_ganador:\n",
        "        print(\"Ronda 2: ¡BINGO!\")   \n",
        "      else:\n",
        "        # Ronda 3 - Inicio\n",
        "        hay_ganador = nueva_boleta()   \n",
        "        if hay_ganador:\n",
        "          print(\"Ronda 3: ¡BINGO!\")   \n",
        "        else:\n",
        "          # Ronda 4 - Inicio\n",
        "          hay_ganador = nueva_boleta()   \n",
        "          if hay_ganador:\n",
        "            print(\"Ronda 4: ¡BINGO!\")   \n",
        "          else:\n",
        "            # Ronda 5 - Inicio\n",
        "            hay_ganador = nueva_boleta()   \n",
        "            if hay_ganador:\n",
        "              print(\"Ronda 5: ¡BINGO!\")   \n",
        "            else:\n",
        "              print(\"Ninguna de los cartones se completó. Fin del juego.\")               \n",
        "              ###### Fin del juego por límite de rondas #####     \n",
        "```\n",
        "\n",
        "\n",
        "El código no solo es redundante e intencionalmente confuso, sino que no cumple de manera adecuada con la tarea. ¿Qué pasa si queremos un número de rondas indefinido? En bingo, para completar un tablero se requieren de por lo menos $25$ rondas, y puede extenderse por muchas más.\n",
        "\n",
        "La lógica, sin embargo, parece correcta. Necesitamos evaluar las mismas condiciones de manera cíclica y ejecutar el mismo código **mientras** una condición se cumpla, y continuar con código distinto cuando se deje de cumplir.\n",
        "\n",
        "Esta idea es la que crea las **sentencias de control cíclicas**, que evalúan una condición para decidir si se ejecuta o no un bloque de código, y que cuando concluye se vuelve a evaluar con el mismo objetivo. En _Python_, se crea la sentencia **`while`**, que corresponde a la idea de escribir código que se asemeje al lenguaje natural del idioma inglés (con _while_ del inglés **mientras**).\n",
        "\n",
        "Esta estructura realiza un salto similar al realizado por las sentencias condicionales, que pasaban de una línea a otra de la ejecución. En este caso el salto es **hacia atrás**, al punto justo antes de realizar la evaluación. La condición se evalúa por lo menos una vez, y se vuelve a evaluar siempre que termina de ejecutarse el código que tiene dentro.\n",
        "\n",
        "<center>\n",
        "<img src = \"https://drive.google.com/uc?export=view&id=1UE6WX5bkOaNJ2Xi3ViXTZZwwx5CXeqDI\" alt = \"Estructura Ciclos\" width = \"35%\">  </img> </center>\n",
        "\n",
        "Más formalmente, el flujo de ejecución de una sentencia **`while`** es el siguiente:\n",
        "1. Evaluar la condición, que puede ser cualquier expresión _booleana_ con valor **`False`** o **`True`**.\n",
        "2. Si la condición es falsa, salir de la sentencia **`while`** y continuar la ejecución en la siguiente sentencia (saltando el bloque de sentencias indentado).\n",
        "3. Si la condición es verdadera, ejecutar cada una de las sentencias en el cuerpo del bucle **`while`**, y luego volver al paso $1$.\n",
        "\n",
        "A continuación, se describe la escritura de una sentencia **`while`** en _Python_:\n",
        "\n",
        "\n",
        "```python\n",
        "while CONDICIÓN:\n",
        "  # <---- El bloque de código debe estar correctamente indentado.\n",
        "  # Bloque de código que se\n",
        "  # ejecuta siempre que la\n",
        "  # condición se cumpla.\n",
        "# <---- A partir de acá se continúa cuando concluya el ciclo.\n",
        "```\n",
        "\n",
        "Por lo tanto, si quisiéramos realizar un equivalente del juego Bingo con esta sentencia, con un contador para el número de rondas necesarias, obtendríamos algo como esto:\n",
        "\n",
        "\n",
        "```python\n",
        "ronda = 1\n",
        "\n",
        "while not hay_ganador:\n",
        "  hay_ganador = nueva_boleta()\n",
        "  ronda += 1\n",
        "\n",
        "print(f'Ronda {ronda}: ¡BINGO!')\n",
        "```\n",
        "\n",
        "\n",
        "En el siguiente ejemplo veremos esta idea con una tarea más simple: imprimir los números enteros entre $1$ y $10$. Veamos cómo se realizaría esta tarea de manera secuencial:\n",
        "\n",
        "\n",
        "\n",
        "\n",
        "\n",
        "\n"
      ]
    },
    {
      "cell_type": "code",
      "metadata": {
        "id": "-X6dIWn7kymi"
      },
      "source": [
        "#@markdown * **Ejecute esta celda para instalar _Python Tutor_.**\n",
        "!pip3 -q install tutormagic\n",
        "%load_ext tutormagic"
      ],
      "execution_count": null,
      "outputs": []
    },
    {
      "cell_type": "code",
      "metadata": {
        "id": "cn0gC76ykymj"
      },
      "source": [
        "%%tutor -s -h 500\n",
        "\n",
        "print(1)\n",
        "print(2)\n",
        "print(3)\n",
        "print(4)\n",
        "print(5)\n",
        "print(6)\n",
        "print(7)\n",
        "print(8)\n",
        "print(9)\n",
        "print(10)"
      ],
      "execution_count": null,
      "outputs": []
    },
    {
      "cell_type": "markdown",
      "metadata": {
        "id": "yq2TYL_UlY1m"
      },
      "source": [
        "¿Cómo podemos recrear esto con un ciclo? Con la ayuda de una variable podemos realizar un ciclo con la sentencia **`while`**, donde la condición evaluada es que la variable sea menor o igual a $10$, y aumentamos de uno en uno su valor dentro del bloque.  Esta condición se cumplirá para todos los valores entre $1$ y $10$:"
      ]
    },
    {
      "cell_type": "code",
      "metadata": {
        "cellView": "form",
        "id": "z8i4SSAV-znm"
      },
      "source": [
        "#@markdown * **Ejecute esta celda para instalar _Python Tutor_.**\n",
        "!pip3 -q install tutormagic\n",
        "%load_ext tutormagic"
      ],
      "execution_count": null,
      "outputs": []
    },
    {
      "cell_type": "code",
      "metadata": {
        "id": "LCsmM6pU-nA0"
      },
      "source": [
        "%%tutor -s -h 500\n",
        "\n",
        "x = 1\n",
        "\n",
        "while x <= 10:  # Mientras n sea menor o igual que 10:\n",
        "  print(x)      # Imprimimos el número de la variable n.\n",
        "  x = x + 1     # Aumentamos en 1 el valor de la variable n.\n",
        "\n",
        "print(\"Fin del ciclo.\")"
      ],
      "execution_count": null,
      "outputs": []
    },
    {
      "cell_type": "markdown",
      "metadata": {
        "id": "VAh9gpNUf3X3"
      },
      "source": [
        "Cuando la variable llega a $11$, la condición se deja de cumplir y el ciclo se detiene y se pasa a ejecutar el código que está ubicado a continuación del bloque.\n",
        "\n",
        "* **Nota:** la condición **siempre** se evalúa antes del bucle. Por esta razón, aunque la variable **`x`** tiene como valor $11$ en el último bucle, el bucle no se detiene hasta que se evalúa en el siguiente bloque. Veamos que sucede si actualizamos el valor de **`x`** antes de imprimirlo."
      ]
    },
    {
      "cell_type": "markdown",
      "metadata": {
        "id": "6jEc3eThqx7l"
      },
      "source": [
        "\n",
        "El uso de bucles indefinidos es muy común en tareas del mundo real, como las siguientes:\n",
        "\n",
        "*   Si estás vendiendo boletas para un evento, no sabes de antemano cuántas boletas vas a vender, simplemente los vendes **mientras** haya espacio y sillas disponibles, y **mientras** el tiempo para vender no termine.\n",
        "*   Si estás bajando de un avión, la tripulación que se encarga de bajar las maletas no sabe de antemano cuantas maletas hay, simplemente **mientras** haya maletas desocuparán el compartimento de equipaje.\n",
        "*   Cuando se hacen compras en un supermercado, el cajero no sabe cuántos elementos lleva un cliente, simplemente **mientras** le entreguen elementos, el cajero los va a registrar y al final, cobrará el total, y mostrará cuantos elementos han sido comprados."
      ]
    },
    {
      "cell_type": "markdown",
      "metadata": {
        "id": "jlOcIl2HafBt"
      },
      "source": [
        "### **2.1. Ciclos infinitos**\n",
        "---\n",
        "\n",
        "\n",
        "> **IMPORTANTE:** este tipo de estructuras tienen una ejecución indefinida, y si no se tiene cuidado con la condición evaluada, pueden llegar a ser **bucles infinitos**. **Asegúrese de que la condición pueda dejar de cumplirse en algún punto dentro del bloque de código que contiene si quiere que su bucle se detenga**.\n",
        "\n",
        "Ejecute la siguiente celda. La condición, que puede ser cualquier expresión _booleana_, nunca dejará de cumplirse. La única forma que tenemos de detener su ejecución es **forzarla** desde fuera, como se muestra a continuación.\n",
        "\n",
        "<center>\n",
        "<img src = \"https://drive.google.com/uc?export=view&id=1aoySmnzfuGS-gaijHIIirR5dBQzqMrJj\" alt = \"Animación Ciclos infinitos\" width = \"95%\">  </img> </center>\n",
        "\n",
        "\n",
        "Al detenerlo de esta forma se genera un error de interrupción por teclado o **`KeyboardInterrupt`**. Si no se llega a detener, el valor seguirá creciendo hasta que los recursos de la máquina (como la memoria) se agoten o el lenguaje ya no lo pueda codificar de manera correcta."
      ]
    },
    {
      "cell_type": "code",
      "metadata": {
        "id": "hZqZnDf-cHlA"
      },
      "source": [
        "# Este bloque de código no se detendrá nunca por sí solo.\n",
        "n = 0\n",
        "while True:\n",
        "  n = n + 1"
      ],
      "execution_count": null,
      "outputs": []
    },
    {
      "cell_type": "code",
      "metadata": {
        "id": "po7PV3LWcAIL"
      },
      "source": [
        "# Veamos el contenido de la variable n.\n",
        "n"
      ],
      "execution_count": null,
      "outputs": []
    },
    {
      "cell_type": "markdown",
      "metadata": {
        "id": "-0eq77FugUk1"
      },
      "source": [
        "En los ejemplos anteriores es fácil saber si un ciclo terminará o si es infinito. En otros casos no es tan fácil determinarlo:"
      ]
    },
    {
      "cell_type": "code",
      "metadata": {
        "cellView": "form",
        "id": "kRIHg06dZBMX"
      },
      "source": [
        "#@markdown * **Ejecute esta celda para instalar _Python Tutor_.**\n",
        "!pip3 -q install tutormagic\n",
        "%load_ext tutormagic"
      ],
      "execution_count": null,
      "outputs": []
    },
    {
      "cell_type": "code",
      "metadata": {
        "id": "91l1IpBfgUlG"
      },
      "source": [
        "%%tutor -s -h 500\n",
        "# Conjetura de Collatz (n = 25).\n",
        "\n",
        "n = 25\n",
        "while n != 1:\n",
        "  print(n)\n",
        "  if n % 2 == 0: # n es par\n",
        "    n = n // 2\n",
        "  else:          # n es impar\n",
        "    n = n * 3 + 1\n",
        "print(n)  # La última impresión es 1"
      ],
      "execution_count": null,
      "outputs": []
    },
    {
      "cell_type": "markdown",
      "metadata": {
        "id": "Zhk28zo-gUlH"
      },
      "source": [
        "En cada iteración el programa muestra como salida el valor de $n$ y luego comprueba si es par o impar. Si es par el valor de $n$ se divide entre dos y si es impar, el valor se sustituye por $3n+1$.\n",
        "\n",
        "Puesto que $n$ a veces aumenta y a veces disminuye, no hay una prueba obvia de que $n$ alcance alguna vez el valor $1$, o de que el programa vaya a terminar.\n",
        "\n",
        "Para algunos valores particulares de $n$, podemos probar la terminación. Por ejemplo, si el valor de inicio es una potencia de dos, entonces el valor de $n$ será par cada vez que se pasa a través del bucle, hasta que lleguemos a $1$."
      ]
    },
    {
      "cell_type": "code",
      "metadata": {
        "cellView": "form",
        "id": "45GFrvVZWW27"
      },
      "source": [
        "#@markdown * **Ejecute esta celda para instalar _Python Tutor_.**\n",
        "!pip3 -q install tutormagic\n",
        "%load_ext tutormagic"
      ],
      "execution_count": null,
      "outputs": []
    },
    {
      "cell_type": "code",
      "metadata": {
        "id": "XIesGGAMgUlH"
      },
      "source": [
        "%%tutor -s -h 500\n",
        "# Conjetura de Collatz (n = 16).\n",
        "\n",
        "n = 16\n",
        "while n != 1:\n",
        "  print(n)\n",
        "  if n % 2 == 0: # n es par\n",
        "    n = n // 2\n",
        "  else:          # n es impar\n",
        "    n = n * 3 + 1\n",
        "print(n) # La ultima impresión es el valor 1."
      ],
      "execution_count": null,
      "outputs": []
    },
    {
      "cell_type": "markdown",
      "metadata": {
        "id": "UThkLDuOgUlH"
      },
      "source": [
        "Ni siquiera con un doctorado en matemáticas podría afirmar que este ciclo termina, ya que aunque se ha demostrado para muchos valores que lo hace, la [**Conjetura de Collatz**](https://es.wikipedia.org/wiki/Conjetura_de_Collatz) sigue siendo un problema abierto.\n",
        "\n",
        "Dejando aparte valores particulares, la pregunta interesante es si podemos probar que este programa terminará para todos los valores de $n$. Hasta la fecha, no ha habido éxito (pero tal vez [estamos cerca](https://www.johndcook.com/blog/2019/09/10/progress-on-the-collatz-conjecture/) )."
      ]
    },
    {
      "cell_type": "markdown",
      "metadata": {
        "id": "ae1wvyOggIRf"
      },
      "source": [
        "### **2.2. Ciclos anidados**\n",
        "---\n",
        "Como pudo notar en el ejemplo anterior, el bloque de código que está dentro de un bucle admite todas las estructuras e instrucciones discutidas, incluyendo el uso de sentencias condicionales e incluso otros **bucles anidados** internos. Por ejemplo, para realizar una tabla de multiplicar podemos recorrer los valores entre $1$ y $10$, tanto en filas como en columnas, y escribir el resultado de su multiplicación.\n",
        "\n",
        "\n",
        "Ejecute la siguiente celda y preste atención al valor de las distintas variables usadas en el programa:"
      ]
    },
    {
      "cell_type": "code",
      "metadata": {
        "cellView": "form",
        "id": "l-4uA-rPZBus"
      },
      "source": [
        "#@markdown * **Ejecute esta celda para instalar _Python Tutor_.**\n",
        "!pip3 -q install tutormagic\n",
        "%load_ext tutormagic"
      ],
      "execution_count": null,
      "outputs": []
    },
    {
      "cell_type": "code",
      "metadata": {
        "id": "oNK-teeHfvUF"
      },
      "source": [
        "%%tutor -s -h 500\n",
        "\n",
        "fila = 1                  # Empezamos en la fila con valor 1.\n",
        "while fila <= 10:\n",
        "  columna = 1             # Empezamos en la columna 1 para cada valor de 'fila'.\n",
        "  linea = \"\"              # Texto que escribir por cada línea.\n",
        "\n",
        "  while columna <= 10:\n",
        "    linea += f\"{fila * columna}\\t\"      # Añadimos el siguiente valor a la línea.\n",
        "    columna = columna + 1               # Aumentamos el valor de la columna.\n",
        "\n",
        "  print(linea)            # Imprimimos en pantalla la línea.\n",
        "  fila = fila + 1         # Aumentamos el valor de la fila."
      ],
      "execution_count": null,
      "outputs": []
    },
    {
      "cell_type": "markdown",
      "metadata": {
        "id": "6RKKCiKRjmDx"
      },
      "source": [
        "De la misma manera, un bucle anidado puede tener cualquier cantidad de bucles anidados y condiciones en su interior, permitiendo una gran flexibilidad en la creación de estructuras complejas. Por ejemplo, si quisiéramos ver las posibles combinaciones de valores binarios (o de cualquier base) de $3$ dígitos y su equivalente en base decimal, podríamos hacer $3$ bucles como en el siguiente ejemplo:"
      ]
    },
    {
      "cell_type": "code",
      "metadata": {
        "cellView": "form",
        "id": "eUeBdsY6ZCWl"
      },
      "source": [
        "#@markdown * **Ejecute esta celda para instalar _Python Tutor_.**\n",
        "!pip3 -q install tutormagic\n",
        "%load_ext tutormagic"
      ],
      "execution_count": null,
      "outputs": []
    },
    {
      "cell_type": "code",
      "metadata": {
        "id": "CZQbfIXMkMYZ"
      },
      "source": [
        "%%tutor -s -h 500\n",
        "\n",
        "a = 0\n",
        "while a < 2:\n",
        "  b = 0\n",
        "  while b < 2:\n",
        "    c = 0\n",
        "    while c < 2:\n",
        "      print(f\"{a}{b}{c} = {a*4 + b*2 + c*1}\")\n",
        "      c += 1\n",
        "    b += 1\n",
        "  a += 1"
      ],
      "execution_count": null,
      "outputs": []
    },
    {
      "cell_type": "markdown",
      "metadata": {
        "id": "ydGHQOLMo--b"
      },
      "source": [
        "Esta flexibilidad en la definición de flujos de ejecución particulares, con sentencias como **`if`** o **`while`**, nos permiten crear programas con lógicas más complejas y variadas, con la posibilidad de cumplir gran cantidad de las tareas posibles en computación.\n",
        "\n",
        "\n",
        "\n"
      ]
    },
    {
      "cell_type": "markdown",
      "metadata": {
        "id": "0CyCr0cq609k"
      },
      "source": [
        "## **3. Sentencias `continue` y `break`**\n",
        "---\n",
        "\n",
        "Si bien la introducción de los bucles condicionales y de la sentencia **`while`** permite la definición de flujos complejos y flexibles, existe un detalle importante a considerar en sus posibilidades. Una vez que se entra en un bucle, con los conceptos introducidos hasta ahora, **no se puede detener la ejecución del bloque de código del bucle**, a menos que se añadan capas adicionales de sentencias condicionales.  \n",
        "\n",
        "Por ejemplo, un servidor que reciba peticiones de ordenes de los clientes, y que identifique que el pedido atendido se realiza con productos de los que no se tienen existencias. El proceso de facturación, modificación de inventarios y despacho del producto, que en principio se realiza con cada orden, no se puede realizar con ese pedido en específico. Lo ideal sería poder **continuar** con la siguiente ejecución del bucle.\n",
        "\n",
        "\n",
        "En _Python_, podemos utilizar la sentencia **`continue`**, que interrumpe la ejecución del bloque del ciclo y pasa de inmediato a evaluar la condición inicial del bucle. En el siguiente diagrama, puede ver que la idea es realizar un salto adicional hacia esta condición y omitir el resto del bloque de código.\n",
        "\n",
        "\n",
        "<center>\n",
        "<img src = \"https://drive.google.com/uc?export=view&id=1tartjbydEQEc4N8VfmYz40DDcln9EXoK\" alt = \"Sentencia continue\" width = \"45%\">  </img> </center>\n",
        "\n",
        "\n",
        "Para usar esta sentencia, simplemente debemos escribir la sentencia **`continue`**.\n",
        "\n",
        "```python\n",
        "while CONDICIÓN:\n",
        "  # <----- el bloque debe estár correctamente indentado.\n",
        "  # ...\n",
        "  continue\n",
        "  # El código a partir de acá no se ejecutará\n",
        "  # y se pasará a evaluar la condición de la siguiente\n",
        "  # iteración.\n",
        "```\n",
        "\n",
        "\n",
        "n el siguiente ejemplo, decidimos continuar con la siguiente iteración para los números que sean múltiplos de $3$.\n",
        "\n",
        "\n",
        "\n",
        "\n",
        "\n"
      ]
    },
    {
      "cell_type": "code",
      "metadata": {
        "cellView": "form",
        "id": "xoXRhRhwZC38"
      },
      "source": [
        "#@markdown * **Ejecute esta celda para instalar _Python Tutor_.**\n",
        "!pip3 -q install tutormagic\n",
        "%load_ext tutormagic"
      ],
      "execution_count": null,
      "outputs": []
    },
    {
      "cell_type": "code",
      "metadata": {
        "id": "teCLqvsBX7IR"
      },
      "source": [
        "%%tutor -s -h 500\n",
        "\n",
        "n = 20\n",
        "\n",
        "while n > 0:\n",
        "  n = n - 1\n",
        "  if n % 3 == 0:\n",
        "    continue # El número es múltiplo de 3. Continuamos con el siguiente.\n",
        "    print(\"Esto no se imprime nunca.\")\n",
        "  print(f\"n = {n}\\t\\tn/3 = {n/3:.3f}\")\n",
        "\n",
        "print(\"Fin del ciclo.\")"
      ],
      "execution_count": null,
      "outputs": []
    },
    {
      "cell_type": "markdown",
      "metadata": {
        "id": "9MkuOvm5ZWLr"
      },
      "source": [
        "¿Y si no queremos continuar con la siguiente iteración sino **romper** el bucle y continuar con las sentencias ubicadas después directamente?\n",
        "\n",
        "Por ejemplo, un programa que busca un archivo que contenga una palabra determinada no necesita evaluar la condición (¿existen más líneas que consultar?) sino que puede continuar con su objetivo de inmediato.\n",
        "\n",
        "Para esto, usamos la sentencia **`break`**, que realiza el salto hacia la primera sentencia ubicada después del ciclo, sin importar si la condición inicial se sigue cumpliendo o no.\n",
        "\n",
        "\n",
        "<center>\n",
        "<img src = \"https://drive.google.com/uc?export=view&id=1w7ETzMP3OUG7HZ-L7NsdBGpZxfuLrg17\" alt = \"Sentencia break\" width = \"45%\">  </img> </center>\n",
        "\n",
        "\n",
        "Nuevamente, es suficiente con indicar la sentencia **`break`** en medio de un bloque de código.\n",
        "```python\n",
        "while CONDICIÓN:\n",
        "  # <----- el bloque debe estár correctamente indentado.\n",
        "  # ...\n",
        "  break\n",
        "  # El código a partir de acá no se ejecutará\n",
        "  # y se pasará a ejecutar el código justo después\n",
        "  # del bloque del ciclo.\n",
        "\n",
        "# El código encontrado a partir de acá será ejecutado justo\n",
        "# después de encontrar la sentencia break.\n",
        "```\n",
        "\n",
        "\n",
        " En el siguiente ejemplo el programa busca en las potencias de $2$ hasta encontrar un número que sea mayor a un valor dado y entonces terminar la ejecución.\n"
      ]
    },
    {
      "cell_type": "code",
      "metadata": {
        "cellView": "form",
        "id": "YJgKGWj1WZq8"
      },
      "source": [
        "#@markdown * **Ejecute esta celda para instalar _Python Tutor_.**\n",
        "!pip3 -q install tutormagic\n",
        "%load_ext tutormagic"
      ],
      "execution_count": null,
      "outputs": []
    },
    {
      "cell_type": "code",
      "metadata": {
        "id": "KYa-jgk3aX2C"
      },
      "source": [
        "%%tutor -s -h 500\n",
        "\n",
        "n = 500\n",
        "x = 2\n",
        "while True:\n",
        "  if x > n:\n",
        "    print(f\"El valor {x} es mayor que {n}. Terminando la ejecución...\")\n",
        "    break\n",
        "    print(\"Esto no se imprime nunca.\")\n",
        "  x = x * 2\n",
        "\n",
        "print(\"Fin del ciclo.\")"
      ],
      "execution_count": null,
      "outputs": []
    },
    {
      "cell_type": "markdown",
      "metadata": {
        "id": "KaxGNYsxdOmj"
      },
      "source": [
        "En los dos ejemplos anteriores se pueden encontrar líneas de código como esta:\n",
        "\n",
        "```python\n",
        "print(\"Esto no se imprime nunca.\")\n",
        "```\n",
        "\n",
        "Estas líneas, tal como lo dice en su texto, nunca imprimen nada porque **no es posible** que la ejecución llegue a ese punto. Este tipo de instrucciones se conoce como **código inalcanzable** o _unreachable code_, que puede ser identificado en algunos casos por el intérprete y señalado como un problema al ser código innecesario o mal definido."
      ]
    },
    {
      "cell_type": "markdown",
      "metadata": {
        "id": "Etwb5RVWqP_y"
      },
      "source": [
        "## **4. Sentencia `for`**\n",
        "---\n",
        "\n",
        "Hasta el momento hemos introducido métodos para la creación de bucles indefinidos, que dependen de la evaluación de una condición para determinar si se ejecutan o no. Muchas veces, estos bucles se ejecutan para obtener un valor distinto en cada iteración y realizar una tarea a partir de su valor.\n",
        "\n",
        "\n",
        "Por ejemplo, en una red social se puede querer realizar un proceso **por cada** publicación de un usuario, que es capturada al inicio de la iteración y asignada a una variable, que tiene un valor distinto para los posibles valores.\n",
        "\n",
        "Ya hemos realizado una tarea similar al iterar sobre los números de un rango determinado la sentencia **`while`**. Veamos un ejemplo:\n",
        "\n"
      ]
    },
    {
      "cell_type": "code",
      "metadata": {
        "id": "o1pX2sxhhIfB"
      },
      "source": [
        "i = 1\n",
        "\n",
        "while i < 10:\n",
        "  print(i)\n",
        "  i += 1"
      ],
      "execution_count": null,
      "outputs": []
    },
    {
      "cell_type": "markdown",
      "metadata": {
        "id": "tcnurZI__Djg"
      },
      "source": [
        "En este sencillo ejemplo realizamos un proceso (imprimir en pantalla el valor) **por cada** valor entre $1$ y $9$, usando la variable **`i`** para definir el valor actual a considerar en una iteración determinada.\n",
        "\n",
        "Es en este sentido que surge la necesidad de definir una estructura para **iterar** valores que lo permitan (llamados valores **iterables**), y ejecutar un bucle de código **para** cada uno de sus valores. En el siguiente diagrama vemos la estructura de un código para iterar cada valor **`a`** de un iterable **`A`**.\n",
        "\n",
        "<center>\n",
        "<img src = \"https://drive.google.com/uc?export=view&id=1faKMWETAaXDGayv_wfzwCo3mne_YP93q\" alt = \"Sentencia for\" width = \"45%\">  </img> </center>\n",
        "\n",
        "Este tipo de estructuras se apoya de las sentencias **`while`** y de detalles de implementación de los objetos considerados iterables. En _Python_, esta estructura se puede crear con la sentencia **`for`**, que se escribe de la siguiente manera:\n",
        "\n",
        "\n",
        "```python\n",
        "for value in iterable:\n",
        "  # <----- el código debe estár correctamente indentado.\n",
        "  # Este código se va a ejecutar por cada valor 'value'\n",
        "  # del objeto iterable 'iterable'.\n",
        "  # En cada iteración, el valor 'value' puede ser accedido\n",
        "  # y tiene asociado el valor del valor actual.\n",
        "  # Ejemplo: print(value)\n",
        "```\n",
        "\n",
        "* **Nota:** en la siguiente semana veremos cómo crear **colecciones**, objetos iterables modificables con la capacidad de almacenar valores que pueden ser iterados con esta estructura.\n",
        "\n",
        "\n",
        "Nótese que nuevamente la estructura pretende emular el lenguaje natural del idioma inglés. Algo como:\n",
        "```python\n",
        "  for contact in agenda:\n",
        "    send_message(contact)\n",
        "```\n",
        "\n",
        "Se puede entender como _**\"por cada contacto en la agenda, mandarle un mensaje a dicho contacto\"**_. La palabra ubicada después de **`for`** y antes de **`in`** corresponde al nombre de una variable, que es declarada de forma implícita con el valor actual del objeto iterable.\n",
        "\n",
        "Un ejemplo de objeto que tiene la propiedad de ser iterable es una cadena de texto. En ese caso, cada valor de la cadena corresponde a cada uno de los caracteres que la conforman. Veamos un ejemplo:\n",
        "\n",
        "\n",
        "\n",
        "\n"
      ]
    },
    {
      "cell_type": "code",
      "metadata": {
        "cellView": "form",
        "id": "IRO7tZmAWbhH"
      },
      "source": [
        "#@markdown * **Ejecute esta celda para instalar _Python Tutor_.**\n",
        "!pip3 -q install tutormagic\n",
        "%load_ext tutormagic"
      ],
      "execution_count": null,
      "outputs": []
    },
    {
      "cell_type": "code",
      "metadata": {
        "id": "CWNJ6Jeb_CpB"
      },
      "source": [
        "%%tutor -s -h 300\n",
        "for caracter in \"Python\":\n",
        "  print(caracter)"
      ],
      "execution_count": null,
      "outputs": []
    },
    {
      "cell_type": "markdown",
      "metadata": {
        "id": "ZepaHcIME6lW"
      },
      "source": [
        "En el ejemplo anterior, fíjese en que la tabla donde se muestra el valor de las variables, se cuenta con la variable **`caracter`**, que cambia siempre que se ejecuta la línea $1$, en la que se evalúa la sentencia **`for`**.\n",
        "\n",
        "Igual que antes, podemos realizar cualquier número de estructuras anidadas variando entre **`if`**, **`else`**, **`while`** y **`for`**, entre otras. En el siguiente ejemplo se realiza un programa complejo que involucra las cadenas discutidas, al igual que las operaciones entre números, cadenas y sentencias de control como **`break`** y **`continue`**.\n",
        "\n",
        "\n",
        "> **Ejercicio:** Tómese su tiempo de entender el programa del siguiente ejemplo, instrucción por instrucción, y de ver su efecto en la salida y en los valores almacenados en las variables. Detalle la función de cada una de ellas para el correcto funcionamiento del programa."
      ]
    },
    {
      "cell_type": "code",
      "metadata": {
        "cellView": "form",
        "id": "xIIdEPZpWcO9"
      },
      "source": [
        "#@markdown * **Ejecute esta celda para instalar _Python Tutor_.**\n",
        "!pip3 -q install tutormagic\n",
        "%load_ext tutormagic"
      ],
      "execution_count": null,
      "outputs": []
    },
    {
      "cell_type": "code",
      "metadata": {
        "id": "8_7diWKqIrEs"
      },
      "source": [
        "%%tutor -s -h 800\n",
        "\n",
        "encontrado = False\n",
        "intento = 1\n",
        "\n",
        "while not encontrado:\n",
        "  print(f\"\\nINTENTO {intento}\")\n",
        "  intento = intento + 1\n",
        "  print('-' * 70)\n",
        "  print(\"\"\"La ejecución de este programa se detendrá cuando ingrese una cadena que tenga todas las vocales.\"\"\")\n",
        "  cadena = input(\"Ingrese una cadena texto: \")\n",
        "  print()\n",
        "\n",
        "  if len(cadena) < 5:\n",
        "    print(\"\\tLa cadena es muy pequeña. Intente de nuevo\")\n",
        "    continue\n",
        "\n",
        "  encontrado = True\n",
        "  for vocal in 'aeiou':\n",
        "    print(f\"Vocal: {vocal}\")\n",
        "\n",
        "    if vocal in cadena.lower():\n",
        "      print(f\"\\tLa vocal {vocal} SÍ está en la cadena.\")\n",
        "\n",
        "    else:\n",
        "      print(f\"\\tLa vocal {vocal} NO está en la cadena.\")\n",
        "      encontrado = False\n",
        "      break\n",
        "\n",
        "  if encontrado:\n",
        "    print(f\"\\n¡La cadena {cadena} tiene todas las vocales!\")"
      ],
      "execution_count": null,
      "outputs": []
    },
    {
      "cell_type": "markdown",
      "metadata": {
        "id": "Ju6oNXodYBr4"
      },
      "source": [
        "### **4.1. Rangos numéricos**\n",
        "---\n",
        "Volvamos al ejemplo de iteración de valores numéricos con la sentencia **`while`**. En muchos casos necesitaremos obtener los valores en un rango,  cuyos valores no necesariamente conocemos de antemano. Por ejemplo, para imprimir todos los valores o realizar cualquier operación sobre estos podemos realizar un código como el siguiente:\n"
      ]
    },
    {
      "cell_type": "code",
      "metadata": {
        "id": "qtj81_L5Yur2"
      },
      "source": [
        "i = 0\n",
        "\n",
        "while i < 10:\n",
        "  print(i)\n",
        "  i += 1"
      ],
      "execution_count": null,
      "outputs": []
    },
    {
      "cell_type": "markdown",
      "metadata": {
        "id": "P0nGBdB9a6eM"
      },
      "source": [
        "_Python_ dispone de un tipo de dato iterable que permite representar este y otros tipos de **rangos numéricos**. Para declarar un rango usamos la función **`range`**. Esta se puede usar de tres formas:\n",
        "\n",
        "* **`range(fin)`**: si solo se indica un valor, este será interpretado como un valor numérico que representa el **final** del rango numérico, generando los valores enteros **estrictamente menores** a este valor. De esta manera, generamos el siguiente intervalo de valores, con $b$ igual al final indicado:\n",
        "\n",
        "$$[0, b)$$\n",
        "\n",
        "\n",
        "En otras palabras, generamos el **_rango de valores enteros hasta $10$_**."
      ]
    },
    {
      "cell_type": "code",
      "metadata": {
        "id": "8PKW9yUMcQRj"
      },
      "source": [
        "# Rango entre 0 (incluido) y 15 (excluído).\n",
        "range(15)"
      ],
      "execution_count": null,
      "outputs": []
    },
    {
      "cell_type": "markdown",
      "metadata": {
        "id": "JOdazq-kcZjI"
      },
      "source": [
        "Esto genera un objeto de tipo **`range`**."
      ]
    },
    {
      "cell_type": "code",
      "metadata": {
        "id": "OqwQ9rqecV07"
      },
      "source": [
        "type(range(15))"
      ],
      "execution_count": null,
      "outputs": []
    },
    {
      "cell_type": "markdown",
      "metadata": {
        "id": "TvUYWcULcdPc"
      },
      "source": [
        "Podemos usar este objeto en el lugar del iterable de una sentencia **`for`** e iterar por cada uno de sus valores."
      ]
    },
    {
      "cell_type": "code",
      "metadata": {
        "id": "eCBCXu3bcjmf"
      },
      "source": [
        "for x in range(15):\n",
        "  print(x)"
      ],
      "execution_count": null,
      "outputs": []
    },
    {
      "cell_type": "markdown",
      "metadata": {
        "id": "Ki9ClhjDcuoC"
      },
      "source": [
        "* **`range(inicio, fin)`**: si se indican dos valores, se interpretarán como los valores numéricos que representan el primer valor o **inicio** de la secuencia y el **final** del rango numérico. De esta manera, generamos el siguiente intervalo de valores, con $a$ igual al inicio y $b$ igual al final:\n",
        "\n",
        "$$[a, b)$$\n",
        "\n",
        "En otras palabras, generamos el **_rango de valores enteros, desde $a$ que sean menores que $b$_**."
      ]
    },
    {
      "cell_type": "code",
      "metadata": {
        "id": "ddBJf4JedHSH"
      },
      "source": [
        "for x in range(15, 23):\n",
        "  print(x)"
      ],
      "execution_count": null,
      "outputs": []
    },
    {
      "cell_type": "markdown",
      "metadata": {
        "id": "lgLKOn5PdOZh"
      },
      "source": [
        "* **`range(inicio, fin, paso)`**: la creación de un rango con $3$ valores en el llamado de su función es la forma más general de rango. Los dos primeros valores representan el inicio y final de los casos anteriores y el último representa el **paso** que se realiza en cada iteración. Este paso representa la cantidad que se le suma a un valor para obtener el siguiente. Vea el siguiente ejemplo:\n",
        "\n",
        "<center>\n",
        "<img src = \"https://drive.google.com/uc?export=view&id=1wJVI3xNr5h-fK31wAYX-XBRWSHpFOAiw\" alt = \"Sentencia range inicio, fin y paso\" width = \"55%\">  </img> </center>\n",
        "\n",
        "En este ejemplo se define un paso de $2$ unidades. En otras palabras, se le indica a _Python_ que genere un rango de valores que empiezan en $41$, son estrictamente menores que $49$ y que aumenta a un ritmo de $2$ unidades."
      ]
    },
    {
      "cell_type": "markdown",
      "metadata": {
        "id": "DGTYi2Xud0mg"
      },
      "source": [
        "Note que el rango expresado con solo un valor:\n",
        "```python\n",
        "range(10)\n",
        "```\n",
        "es equivalente al rango:\n",
        "```python\n",
        "range(0, 10)\n",
        "```\n",
        "y a su vez es equivalente al rango:\n",
        "```python\n",
        "range(0, 10, 1)\n",
        "```"
      ]
    },
    {
      "cell_type": "code",
      "metadata": {
        "cellView": "form",
        "id": "cYIlsP6nhOEq"
      },
      "source": [
        "#@markdown * **Ejecute esta celda para instalar _Python Tutor_.**\n",
        "!pip3 -q install tutormagic\n",
        "%load_ext tutormagic"
      ],
      "execution_count": null,
      "outputs": []
    },
    {
      "cell_type": "code",
      "metadata": {
        "id": "O78IFVjWewRm"
      },
      "source": [
        "%%tutor -s -h 500\n",
        "\n",
        "for x in range(41, 49, 2):\n",
        "  print(x)"
      ],
      "execution_count": null,
      "outputs": []
    },
    {
      "cell_type": "markdown",
      "metadata": {
        "id": "pEZJPFVpfrB5"
      },
      "source": [
        "Este código es equivalente al siguiente programa escrito con la sentencia **`while`**."
      ]
    },
    {
      "cell_type": "code",
      "metadata": {
        "cellView": "form",
        "id": "f2s6jC4FrvzC"
      },
      "source": [
        "#@markdown * **Ejecute esta celda para instalar _Python Tutor_.**\n",
        "!pip3 -q install tutormagic\n",
        "%load_ext tutormagic"
      ],
      "execution_count": null,
      "outputs": []
    },
    {
      "cell_type": "code",
      "metadata": {
        "id": "WvaRmU3dfqf0"
      },
      "source": [
        "%%tutor -s -h 500\n",
        "\n",
        "inicio = 41\n",
        "fin = 49\n",
        "paso = 2\n",
        "\n",
        "valor = inicio\n",
        "\n",
        "while valor < fin:\n",
        "  print(valor)\n",
        "  valor += paso"
      ],
      "execution_count": null,
      "outputs": []
    },
    {
      "cell_type": "markdown",
      "metadata": {
        "id": "zpehz-q7f6an"
      },
      "source": [
        "¿Qué pasa si el paso es negativo? _Python_ identifica este tipo de rangos invertidos y evalúa la condición de parada cuando el final es **estrictamente mayor**. Veamos un ejemplo de rango invertido."
      ]
    },
    {
      "cell_type": "code",
      "metadata": {
        "id": "PLPq2gjdgIks"
      },
      "source": [
        "%%tutor -s -h 300\n",
        "\n",
        "for x in range(50, 35, -5):\n",
        "  print(x)"
      ],
      "execution_count": null,
      "outputs": []
    },
    {
      "cell_type": "markdown",
      "metadata": {
        "id": "iNS0ipWssIZJ"
      },
      "source": [
        "Aún con el valor invertido, el último valor del rango **nunca es incluido**. Sea cual sea el orden, cuando se encuentra un valor que ya no cumpla con la condición, que sea menor (paso positivo) o mayor (paso negativo) que el valor final, se detiene la ejecución y se ignora este último valor."
      ]
    },
    {
      "cell_type": "markdown",
      "metadata": {
        "id": "DB_GPl1ou_YI"
      },
      "source": [
        "## **Referencias**\n",
        "---\n",
        "Este material fue tomado y adaptado del libro _How to Think Like a Computer Scientist: Learning with Python 3_, apítulo 7 (versión en inglés) y 6 (versión en español).\n",
        "\n",
        " > _Copyright (C) Brad Miller, David Ranum, Jeffrey Elkner, Peter Wentworth, Allen B. Downey, Chris\n",
        "Meyers, and Dario Mitchell. Permission is granted to copy, distribute\n",
        "and/or modify this document under the terms of the GNU Free Documentation\n",
        "License, Version 1.3 or any later version published by the Free Software\n",
        "Foundation; with Invariant Sections being Forward, Prefaces, and\n",
        "Contributor List, no Front-Cover Texts, and no Back-Cover Texts. A copy of\n",
        "the license is included in the section entitled “GNU Free Documentation\n",
        "License”_\n",
        "\n",
        "*   [P. Wentworth, J. Elkner, A.B. Downey, C. Meyers - How to Think Like a Computer\n",
        "Scientist: Learning with Python 3\n",
        "Documentation (3rd Edition)](http://www.ict.ru.ac.za/Resources/cspw/thinkcspy3/thinkcspy3.pdf)\n",
        "*   [How to Think Like a Computer Scientist: Interactive Edition](http://interactivepython.org/courselib/static/thinkcspy/index.html)\n",
        "*   [Aprenda a Pensar Como un Programador\n",
        "con Python\n",
        " (español)](https://argentinaenpython.com/quiero-aprender-python/aprenda-a-pensar-como-un-programador-con-python.pdf)\n"
      ]
    },
    {
      "cell_type": "markdown",
      "metadata": {
        "id": "4r5hSQAz6d-g"
      },
      "source": [
        "## **Recursos adicionales**\n",
        "---\n",
        "\n",
        "En esta sección encontrará material adicional para reforzar los temas y conceptos discutidos:\n",
        "\n",
        "* [*Python* 3: documentación oficial.](https://docs.python.org/3/)\n",
        "* [_Python_ - Tutorial de _Python_ (Español)](https://docs.python.org/es/3.7/tutorial/)\n",
        "  - [_Python_ - 4. Más herramientas para control de flujo](https://docs.python.org/es/3.7/tutorial/controlflow.html#more-control-flow-tools)\n",
        "  - [_Python_ - 8.2 The while statement](https://docs.python.org/es/3.7/reference/compound_stmts.html#the-while-statement)\n",
        "  - [_Python_ - 8.3 The for statement](https://docs.python.org/es/3.7/reference/compound_stmts.html#the-for-statement)"
      ]
    },
    {
      "cell_type": "markdown",
      "metadata": {
        "id": "uJLF2Soq64YL"
      },
      "source": [
        "## **Créditos**\n",
        "---\n",
        "\n",
        "* **Profesores:**\n",
        "  * [Felipe Restrepo Calle, PhD](https://dis.unal.edu.co/~ferestrepoca/)\n",
        "  * [Fabio Augusto González, PhD](https://dis.unal.edu.co/~fgonza/)\n",
        "  * [Jorge Eliecer Camargo, PhD](https://dis.unal.edu.co/~jecamargom/)\n",
        "* **Asistentes docentes:**\n",
        "  - Alberto Nicolai Romero Martínez\n",
        "  - Edder Hernández Forero\n",
        "\n",
        "**Universidad Nacional de Colombia** - *Facultad de Ingeniería*"
      ]
    }
  ]
}